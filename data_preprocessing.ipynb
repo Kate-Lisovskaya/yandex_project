{
 "cells": [
  {
   "cell_type": "markdown",
   "metadata": {},
   "source": [
    "# Проект: Исследование надёжности заёмщиков"
   ]
  },
  {
   "cell_type": "markdown",
   "metadata": {},
   "source": [
    "***"
   ]
  },
  {
   "cell_type": "markdown",
   "metadata": {},
   "source": [
    "## Исходная информация\n",
    "\n",
    "**Заказчик**: кредитный отдел банка.  \n",
    "\n",
    "**Цель проекта**: определить, влияет ли семейное положение и количество детей клиента на факт погашения кредита в срок.  \n",
    "\n",
    "**Входные данные от банка** : статистика о платёжеспособности клиентов.  \n",
    "\n",
    "**Дополнительная информация**: результаты исследования будут учтены при построении модели **кредитного скоринга** — специальной системы, которая оценивает способность потенциального заёмщика вернуть кредит банку."
   ]
  },
  {
   "cell_type": "markdown",
   "metadata": {},
   "source": [
    "***"
   ]
  },
  {
   "cell_type": "markdown",
   "metadata": {},
   "source": [
    "## 1 Изучение файла с данными"
   ]
  },
  {
   "cell_type": "code",
   "execution_count": 1,
   "metadata": {},
   "outputs": [],
   "source": [
    "import pandas as pd\n",
    "from pymystem3 import Mystem"
   ]
  },
  {
   "cell_type": "code",
   "execution_count": 2,
   "metadata": {},
   "outputs": [
    {
     "data": {
      "text/html": [
       "<div>\n",
       "<style scoped>\n",
       "    .dataframe tbody tr th:only-of-type {\n",
       "        vertical-align: middle;\n",
       "    }\n",
       "\n",
       "    .dataframe tbody tr th {\n",
       "        vertical-align: top;\n",
       "    }\n",
       "\n",
       "    .dataframe thead th {\n",
       "        text-align: right;\n",
       "    }\n",
       "</style>\n",
       "<table border=\"1\" class=\"dataframe\">\n",
       "  <thead>\n",
       "    <tr style=\"text-align: right;\">\n",
       "      <th></th>\n",
       "      <th>children</th>\n",
       "      <th>days_employed</th>\n",
       "      <th>dob_years</th>\n",
       "      <th>education</th>\n",
       "      <th>education_id</th>\n",
       "      <th>family_status</th>\n",
       "      <th>family_status_id</th>\n",
       "      <th>gender</th>\n",
       "      <th>income_type</th>\n",
       "      <th>debt</th>\n",
       "      <th>total_income</th>\n",
       "      <th>purpose</th>\n",
       "    </tr>\n",
       "  </thead>\n",
       "  <tbody>\n",
       "    <tr>\n",
       "      <td>20227</td>\n",
       "      <td>0</td>\n",
       "      <td>-1347.492896</td>\n",
       "      <td>55</td>\n",
       "      <td>среднее</td>\n",
       "      <td>1</td>\n",
       "      <td>женат / замужем</td>\n",
       "      <td>0</td>\n",
       "      <td>F</td>\n",
       "      <td>сотрудник</td>\n",
       "      <td>0</td>\n",
       "      <td>149480.505901</td>\n",
       "      <td>профильное образование</td>\n",
       "    </tr>\n",
       "    <tr>\n",
       "      <td>19482</td>\n",
       "      <td>1</td>\n",
       "      <td>-2350.438414</td>\n",
       "      <td>44</td>\n",
       "      <td>высшее</td>\n",
       "      <td>0</td>\n",
       "      <td>женат / замужем</td>\n",
       "      <td>0</td>\n",
       "      <td>F</td>\n",
       "      <td>компаньон</td>\n",
       "      <td>0</td>\n",
       "      <td>280944.222087</td>\n",
       "      <td>на покупку подержанного автомобиля</td>\n",
       "    </tr>\n",
       "    <tr>\n",
       "      <td>19903</td>\n",
       "      <td>0</td>\n",
       "      <td>401215.459785</td>\n",
       "      <td>61</td>\n",
       "      <td>среднее</td>\n",
       "      <td>1</td>\n",
       "      <td>женат / замужем</td>\n",
       "      <td>0</td>\n",
       "      <td>F</td>\n",
       "      <td>пенсионер</td>\n",
       "      <td>0</td>\n",
       "      <td>113380.190187</td>\n",
       "      <td>сделка с подержанным автомобилем</td>\n",
       "    </tr>\n",
       "    <tr>\n",
       "      <td>8796</td>\n",
       "      <td>0</td>\n",
       "      <td>-1612.690687</td>\n",
       "      <td>32</td>\n",
       "      <td>среднее</td>\n",
       "      <td>1</td>\n",
       "      <td>женат / замужем</td>\n",
       "      <td>0</td>\n",
       "      <td>F</td>\n",
       "      <td>сотрудник</td>\n",
       "      <td>0</td>\n",
       "      <td>156421.727914</td>\n",
       "      <td>ремонт жилью</td>\n",
       "    </tr>\n",
       "    <tr>\n",
       "      <td>19624</td>\n",
       "      <td>0</td>\n",
       "      <td>371707.119269</td>\n",
       "      <td>58</td>\n",
       "      <td>среднее</td>\n",
       "      <td>1</td>\n",
       "      <td>вдовец / вдова</td>\n",
       "      <td>2</td>\n",
       "      <td>F</td>\n",
       "      <td>пенсионер</td>\n",
       "      <td>0</td>\n",
       "      <td>134388.026397</td>\n",
       "      <td>получение высшего образования</td>\n",
       "    </tr>\n",
       "  </tbody>\n",
       "</table>\n",
       "</div>"
      ],
      "text/plain": [
       "       children  days_employed  dob_years education  education_id  \\\n",
       "20227         0   -1347.492896         55   среднее             1   \n",
       "19482         1   -2350.438414         44    высшее             0   \n",
       "19903         0  401215.459785         61   среднее             1   \n",
       "8796          0   -1612.690687         32   среднее             1   \n",
       "19624         0  371707.119269         58   среднее             1   \n",
       "\n",
       "         family_status  family_status_id gender income_type  debt  \\\n",
       "20227  женат / замужем                 0      F   сотрудник     0   \n",
       "19482  женат / замужем                 0      F   компаньон     0   \n",
       "19903  женат / замужем                 0      F   пенсионер     0   \n",
       "8796   женат / замужем                 0      F   сотрудник     0   \n",
       "19624   вдовец / вдова                 2      F   пенсионер     0   \n",
       "\n",
       "        total_income                             purpose  \n",
       "20227  149480.505901              профильное образование  \n",
       "19482  280944.222087  на покупку подержанного автомобиля  \n",
       "19903  113380.190187    сделка с подержанным автомобилем  \n",
       "8796   156421.727914                        ремонт жилью  \n",
       "19624  134388.026397       получение высшего образования  "
      ]
     },
     "execution_count": 2,
     "metadata": {},
     "output_type": "execute_result"
    }
   ],
   "source": [
    "df = pd.read_csv('/datasets/data.csv')\n",
    "df.sample(5)"
   ]
  },
  {
   "cell_type": "code",
   "execution_count": 3,
   "metadata": {},
   "outputs": [
    {
     "data": {
      "text/plain": [
       "Index(['children', 'days_employed', 'dob_years', 'education', 'education_id',\n",
       "       'family_status', 'family_status_id', 'gender', 'income_type', 'debt',\n",
       "       'total_income', 'purpose'],\n",
       "      dtype='object')"
      ]
     },
     "execution_count": 3,
     "metadata": {},
     "output_type": "execute_result"
    }
   ],
   "source": [
    "df.columns"
   ]
  },
  {
   "cell_type": "code",
   "execution_count": 4,
   "metadata": {},
   "outputs": [
    {
     "name": "stdout",
     "output_type": "stream",
     "text": [
      "<class 'pandas.core.frame.DataFrame'>\n",
      "RangeIndex: 21525 entries, 0 to 21524\n",
      "Data columns (total 12 columns):\n",
      "children            21525 non-null int64\n",
      "days_employed       19351 non-null float64\n",
      "dob_years           21525 non-null int64\n",
      "education           21525 non-null object\n",
      "education_id        21525 non-null int64\n",
      "family_status       21525 non-null object\n",
      "family_status_id    21525 non-null int64\n",
      "gender              21525 non-null object\n",
      "income_type         21525 non-null object\n",
      "debt                21525 non-null int64\n",
      "total_income        19351 non-null float64\n",
      "purpose             21525 non-null object\n",
      "dtypes: float64(2), int64(5), object(5)\n",
      "memory usage: 2.0+ MB\n"
     ]
    }
   ],
   "source": [
    "df.info()"
   ]
  },
  {
   "cell_type": "markdown",
   "metadata": {},
   "source": [
    "**Выводы:**:\n",
    "* Набор данных состоит из `21525` наблюдений;\n",
    "* Столбцы `days_employed` и `total_income` содержат пустые значения, необходимо их проанализировать и при необходимости от них избавиться;\n",
    "* Столбец `days_employed` содержит отрицательные значения;\n",
    "* Нужно проверить, какие значения принимают столбцы для поиска ошибок;\n",
    "* Названия столбцов записаны в нижнем регистре, без лишних пробелов, на одном языке\n",
    "* Тип данных в столбцах `days_employed` и `total_income` нужно заменить на целочисленный.  "
   ]
  },
  {
   "cell_type": "markdown",
   "metadata": {},
   "source": [
    "***"
   ]
  },
  {
   "cell_type": "markdown",
   "metadata": {},
   "source": [
    "## 2 Предобработка данных"
   ]
  },
  {
   "cell_type": "markdown",
   "metadata": {},
   "source": [
    "### 2.1 Анализ значений, которые могут принимать столбцы в наборе данных\n",
    "\n",
    "Изучим значения, которые может принимать столбец `children`."
   ]
  },
  {
   "cell_type": "code",
   "execution_count": 5,
   "metadata": {},
   "outputs": [
    {
     "data": {
      "text/plain": [
       " 0     14149\n",
       " 1      4818\n",
       " 2      2055\n",
       " 3       330\n",
       " 20       76\n",
       "-1        47\n",
       " 4        41\n",
       " 5         9\n",
       "Name: children, dtype: int64"
      ]
     },
     "execution_count": 5,
     "metadata": {},
     "output_type": "execute_result"
    }
   ],
   "source": [
    "df['children'].value_counts()"
   ]
  },
  {
   "cell_type": "markdown",
   "metadata": {},
   "source": [
    "**Выводы**:  \n",
    "\n",
    "В столбце `children` есть ошибочное/случайное значение `-1` в количестве 47 штук (0,2% от выборки) и выброс `20` в количестве 76 штук (0,3%): \n",
    "* Можно предположить, что знак `-` был проставлен случайно, а количество детей у таких клиентов равно 1. Поэтому следует заменить все отрицательные значение в столбце на положительные.  \n",
    "* Наличие у семьи 20-ти детей маловероятно, скорее всего это ошибочное значение. Необходимо заменить его на среднее (можно попробовать посчитать среднее по каждому из значений столбца `family_status`).  \n",
    "\n",
    "Изучим значения, которые может принимать столбец `dob_years`."
   ]
  },
  {
   "cell_type": "code",
   "execution_count": 6,
   "metadata": {},
   "outputs": [
    {
     "data": {
      "text/plain": [
       "count    21525.000000\n",
       "mean        43.293380\n",
       "std         12.574584\n",
       "min          0.000000\n",
       "25%         33.000000\n",
       "50%         42.000000\n",
       "75%         53.000000\n",
       "max         75.000000\n",
       "Name: dob_years, dtype: float64"
      ]
     },
     "execution_count": 6,
     "metadata": {},
     "output_type": "execute_result"
    }
   ],
   "source": [
    "df['dob_years'].describe()"
   ]
  },
  {
   "cell_type": "code",
   "execution_count": 7,
   "metadata": {},
   "outputs": [
    {
     "name": "stdout",
     "output_type": "stream",
     "text": [
      "Количество строк с нулевым возрастом: 101\n",
      "Доля строк с нулевым возрастом во всем датасете: 0.004692218350754936\n"
     ]
    }
   ],
   "source": [
    "print('Количество строк с нулевым возрастом:', len(df[df['dob_years'] == 0]))\n",
    "print('Доля строк с нулевым возрастом во всем датасете:', len(df[df['dob_years'] == 0]) / len(df))"
   ]
  },
  {
   "cell_type": "markdown",
   "metadata": {},
   "source": [
    "**Выводы**:\n",
    "\n",
    "В столбце `dob_years` есть ошибочное/случайное значение `0` в количестве 101 штука (0,4% от выборки). Необходимо заменить его на среднее (можно попробовать посчитать среднее по каждому из значений столбца `income_type`).  \n",
    "\n",
    "Изучим значения, которые может принимать столбец `education`."
   ]
  },
  {
   "cell_type": "code",
   "execution_count": 8,
   "metadata": {},
   "outputs": [
    {
     "data": {
      "text/plain": [
       "среднее                13750\n",
       "высшее                  4718\n",
       "СРЕДНЕЕ                  772\n",
       "Среднее                  711\n",
       "неоконченное высшее      668\n",
       "ВЫСШЕЕ                   274\n",
       "Высшее                   268\n",
       "начальное                250\n",
       "Неоконченное высшее       47\n",
       "НЕОКОНЧЕННОЕ ВЫСШЕЕ       29\n",
       "НАЧАЛЬНОЕ                 17\n",
       "Начальное                 15\n",
       "ученая степень             4\n",
       "УЧЕНАЯ СТЕПЕНЬ             1\n",
       "Ученая степень             1\n",
       "Name: education, dtype: int64"
      ]
     },
     "execution_count": 8,
     "metadata": {},
     "output_type": "execute_result"
    }
   ],
   "source": [
    "df['education'].value_counts()"
   ]
  },
  {
   "cell_type": "markdown",
   "metadata": {},
   "source": [
    "**Выводы**:\n",
    "\n",
    "Необходимо привести значения в столбце `education` к единому варианту написания.  \n",
    "\n",
    "Изучим значения, которые может принимать столбец `family_status`."
   ]
  },
  {
   "cell_type": "code",
   "execution_count": 9,
   "metadata": {},
   "outputs": [
    {
     "data": {
      "text/plain": [
       "женат / замужем          12380\n",
       "гражданский брак          4177\n",
       "Не женат / не замужем     2813\n",
       "в разводе                 1195\n",
       "вдовец / вдова             960\n",
       "Name: family_status, dtype: int64"
      ]
     },
     "execution_count": 9,
     "metadata": {},
     "output_type": "execute_result"
    }
   ],
   "source": [
    "df['family_status'].value_counts()"
   ]
  },
  {
   "cell_type": "markdown",
   "metadata": {},
   "source": [
    "**Выводы**:\n",
    "\n",
    "В столбце `family_status` ошибок нет.  \n",
    "\n",
    "Изучим значения, которые может принимать столбец `gender`."
   ]
  },
  {
   "cell_type": "code",
   "execution_count": 10,
   "metadata": {},
   "outputs": [
    {
     "data": {
      "text/plain": [
       "F      14236\n",
       "M       7288\n",
       "XNA        1\n",
       "Name: gender, dtype: int64"
      ]
     },
     "execution_count": 10,
     "metadata": {},
     "output_type": "execute_result"
    }
   ],
   "source": [
    "df['gender'].value_counts()"
   ]
  },
  {
   "cell_type": "markdown",
   "metadata": {},
   "source": [
    "**Выводы**:\n",
    "\n",
    "В столбце `gender` есть ошибочное/случайное значение `XNA` в количестве 1 штука.  \n",
    "Его можно заменить на значение большинства (`F`) без искажения результата.\n",
    "\n",
    "Изучим значения, которые может принимать столбец `income_type`."
   ]
  },
  {
   "cell_type": "code",
   "execution_count": 11,
   "metadata": {},
   "outputs": [
    {
     "data": {
      "text/plain": [
       "сотрудник          11119\n",
       "компаньон           5085\n",
       "пенсионер           3856\n",
       "госслужащий         1459\n",
       "предприниматель        2\n",
       "безработный            2\n",
       "в декрете              1\n",
       "студент                1\n",
       "Name: income_type, dtype: int64"
      ]
     },
     "execution_count": 11,
     "metadata": {},
     "output_type": "execute_result"
    }
   ],
   "source": [
    "df['income_type'].value_counts()"
   ]
  },
  {
   "cell_type": "markdown",
   "metadata": {},
   "source": [
    "**Выводы**:\n",
    "\n",
    "В столбце `income_type` ошибок нет.\n",
    "\n",
    "Изучим значения, которые может принимать столбец `purpose`."
   ]
  },
  {
   "cell_type": "code",
   "execution_count": 12,
   "metadata": {},
   "outputs": [
    {
     "data": {
      "text/plain": [
       "свадьба                                   797\n",
       "на проведение свадьбы                     777\n",
       "сыграть свадьбу                           774\n",
       "операции с недвижимостью                  676\n",
       "покупка коммерческой недвижимости         664\n",
       "покупка жилья для сдачи                   653\n",
       "операции с жильем                         653\n",
       "операции с коммерческой недвижимостью     651\n",
       "жилье                                     647\n",
       "покупка жилья                             647\n",
       "покупка жилья для семьи                   641\n",
       "строительство собственной недвижимости    635\n",
       "недвижимость                              634\n",
       "операции со своей недвижимостью           630\n",
       "строительство жилой недвижимости          626\n",
       "покупка недвижимости                      624\n",
       "покупка своего жилья                      620\n",
       "строительство недвижимости                620\n",
       "ремонт жилью                              612\n",
       "покупка жилой недвижимости                607\n",
       "на покупку своего автомобиля              505\n",
       "заняться высшим образованием              496\n",
       "автомобиль                                495\n",
       "сделка с подержанным автомобилем          489\n",
       "свой автомобиль                           480\n",
       "на покупку подержанного автомобиля        479\n",
       "автомобили                                478\n",
       "на покупку автомобиля                     472\n",
       "приобретение автомобиля                   462\n",
       "дополнительное образование                462\n",
       "сделка с автомобилем                      455\n",
       "высшее образование                        453\n",
       "получение дополнительного образования     447\n",
       "образование                               447\n",
       "получение образования                     443\n",
       "профильное образование                    436\n",
       "получение высшего образования             426\n",
       "заняться образованием                     412\n",
       "Name: purpose, dtype: int64"
      ]
     },
     "execution_count": 12,
     "metadata": {},
     "output_type": "execute_result"
    }
   ],
   "source": [
    "df['purpose'].value_counts()"
   ]
  },
  {
   "cell_type": "markdown",
   "metadata": {},
   "source": [
    "**Выводы**:\n",
    "\n",
    "В столбце `purpose` есть проблема в записи вариантов ответа (один и тот же вариант ответа записан разными словами)."
   ]
  },
  {
   "cell_type": "markdown",
   "metadata": {},
   "source": [
    "### 2.2 Обработка пропущенных значений\n",
    "\n",
    "Предположим, что пропущенные значения в столбцах `days_employed` принадлежат только безработным людям.  \n",
    "Проверим эту гипотезу."
   ]
  },
  {
   "cell_type": "code",
   "execution_count": 13,
   "metadata": {},
   "outputs": [
    {
     "data": {
      "text/plain": [
       "сотрудник          1105\n",
       "компаньон           508\n",
       "пенсионер           413\n",
       "госслужащий         147\n",
       "предприниматель       1\n",
       "Name: income_type, dtype: int64"
      ]
     },
     "execution_count": 13,
     "metadata": {},
     "output_type": "execute_result"
    }
   ],
   "source": [
    "df[df['days_employed'].isna()]['income_type'].value_counts()"
   ]
  },
  {
   "cell_type": "code",
   "execution_count": 14,
   "metadata": {},
   "outputs": [
    {
     "data": {
      "text/plain": [
       "сотрудник          1105\n",
       "компаньон           508\n",
       "пенсионер           413\n",
       "госслужащий         147\n",
       "предприниматель       1\n",
       "Name: income_type, dtype: int64"
      ]
     },
     "execution_count": 14,
     "metadata": {},
     "output_type": "execute_result"
    }
   ],
   "source": [
    "df[df['total_income'].isna()]['income_type'].value_counts()"
   ]
  },
  {
   "cell_type": "markdown",
   "metadata": {},
   "source": [
    "**Выводы**:\n",
    "* Пустые значения в столбцах `days_employed` и `total_income` не принадлежат безработным людям.\n",
    "* В наблюдениях с непроставленным стажем работы не заполнен и уровень дохода (полученные результаты идентичны).   \n",
    "* Можно предположить, что данные клиенты просто не захотели указывать свой стаж работы и уровень дохода.\n",
    "* Так как столбец `days_employed` нам не понадобится для ответа на поставленный заказчиком вопрос, заменим пустые значения в нем на 0.\n",
    "* Столбец `total_income` будем использовать далее для нахождения зависимости между уровнем дохода и возвратом кредита в срок. Поэтому пропуски в столбце заменим на среднее по категории `income_type`.\n",
    "\n",
    "Заменим пустые значения в столбцах `days_employed` и `total_income` согласно выводу выше."
   ]
  },
  {
   "cell_type": "code",
   "execution_count": 15,
   "metadata": {},
   "outputs": [
    {
     "name": "stdout",
     "output_type": "stream",
     "text": [
      "<class 'pandas.core.frame.DataFrame'>\n",
      "RangeIndex: 21525 entries, 0 to 21524\n",
      "Data columns (total 12 columns):\n",
      "children            21525 non-null int64\n",
      "days_employed       21525 non-null float64\n",
      "dob_years           21525 non-null int64\n",
      "education           21525 non-null object\n",
      "education_id        21525 non-null int64\n",
      "family_status       21525 non-null object\n",
      "family_status_id    21525 non-null int64\n",
      "gender              21525 non-null object\n",
      "income_type         21525 non-null object\n",
      "debt                21525 non-null int64\n",
      "total_income        21525 non-null float64\n",
      "purpose             21525 non-null object\n",
      "dtypes: float64(2), int64(5), object(5)\n",
      "memory usage: 2.0+ MB\n"
     ]
    }
   ],
   "source": [
    "df['days_employed'] = df['days_employed'].fillna(0)\n",
    "\n",
    "mean_income = df.groupby('income_type').agg({'total_income': 'mean'})\n",
    "for inc_type in mean_income.index:\n",
    "    inc_med = mean_income.loc[inc_type, 'total_income']\n",
    "    df.loc[df['income_type'] == inc_type, 'total_income'] = df.loc[df['income_type'] == inc_type, 'total_income'].fillna(inc_med)\n",
    "    \n",
    "df.info()"
   ]
  },
  {
   "cell_type": "markdown",
   "metadata": {},
   "source": [
    "### 2.3 Обработка ошибочных значений\n",
    "\n",
    "Заменим значение 20 в столбце `children` на среднее по категориям `family_status`."
   ]
  },
  {
   "cell_type": "code",
   "execution_count": 16,
   "metadata": {},
   "outputs": [],
   "source": [
    "mean_children = df.groupby('family_status').agg({'children': 'mean'}).round()\n",
    "\n",
    "for family_status in mean_children.index:\n",
    "    children_mean = mean_children.loc[family_status, 'children']\n",
    "    df.loc[df['family_status'] == family_status, 'children'] = df.loc[df['family_status'] == family_status, 'children'].replace(20, children_mean)\n",
    "\n",
    "df['children'] = df['children'].astype('int')"
   ]
  },
  {
   "cell_type": "markdown",
   "metadata": {},
   "source": [
    "Заменим отрицательные значения в столбцах `days_employed` и `children` на положительные."
   ]
  },
  {
   "cell_type": "code",
   "execution_count": 17,
   "metadata": {},
   "outputs": [],
   "source": [
    "df['days_employed'] = df['days_employed'].abs()\n",
    "df['children'] = df['children'].abs()"
   ]
  },
  {
   "cell_type": "markdown",
   "metadata": {},
   "source": [
    "Заменим значение 0 в столбце `dob_years` на среднее по категориям `income_type`."
   ]
  },
  {
   "cell_type": "code",
   "execution_count": 18,
   "metadata": {},
   "outputs": [],
   "source": [
    "mean_dob_years = df.groupby('income_type').agg({'dob_years': 'mean'}).round()\n",
    "\n",
    "for income_type in mean_dob_years.index:\n",
    "    dob_years_mean = mean_dob_years.loc[income_type, 'dob_years']\n",
    "    df.loc[df['income_type'] == income_type, 'dob_years'] = df.loc[df['income_type'] == income_type, 'dob_years'].replace(0,dob_years_mean)\n",
    "\n",
    "df['dob_years'] = df['dob_years'].astype('int')"
   ]
  },
  {
   "cell_type": "markdown",
   "metadata": {},
   "source": [
    "Заменим ошибочное значение `XNA` в столбце `gender` на значение большинства."
   ]
  },
  {
   "cell_type": "code",
   "execution_count": 19,
   "metadata": {},
   "outputs": [],
   "source": [
    "df['gender'] = df['gender'].replace('XNA', 'F')"
   ]
  },
  {
   "cell_type": "markdown",
   "metadata": {},
   "source": [
    "### 2.4 Замена типа данных"
   ]
  },
  {
   "cell_type": "markdown",
   "metadata": {},
   "source": [
    "Заменим тип данных в столбцах `days_employed` и `total_income` на целочисленный."
   ]
  },
  {
   "cell_type": "code",
   "execution_count": 20,
   "metadata": {},
   "outputs": [],
   "source": [
    "df['days_employed'] = df['days_employed'].astype('int')\n",
    "df['total_income'] = df['total_income'].astype('int')"
   ]
  },
  {
   "cell_type": "markdown",
   "metadata": {},
   "source": [
    "### 2.5 Обработка дубликатов\n",
    "\n",
    "Преобразуем столбец `education` для удаления дубликатов в нем.  \n",
    "Для этого сменим регистр в столбце на нижний."
   ]
  },
  {
   "cell_type": "code",
   "execution_count": 21,
   "metadata": {},
   "outputs": [
    {
     "data": {
      "text/plain": [
       "среднее                15233\n",
       "высшее                  5260\n",
       "неоконченное высшее      744\n",
       "начальное                282\n",
       "ученая степень             6\n",
       "Name: education, dtype: int64"
      ]
     },
     "execution_count": 21,
     "metadata": {},
     "output_type": "execute_result"
    }
   ],
   "source": [
    "df['education'] = df['education'].str.lower()\n",
    "df['education'].value_counts()"
   ]
  },
  {
   "cell_type": "markdown",
   "metadata": {},
   "source": [
    "Посмотрим, есть ли в таблице дублирующиеся строки."
   ]
  },
  {
   "cell_type": "code",
   "execution_count": 22,
   "metadata": {},
   "outputs": [
    {
     "data": {
      "text/plain": [
       "71"
      ]
     },
     "execution_count": 22,
     "metadata": {},
     "output_type": "execute_result"
    }
   ],
   "source": [
    "df.duplicated().sum()"
   ]
  },
  {
   "cell_type": "markdown",
   "metadata": {},
   "source": [
    "Так как у нас нет никакого идентификатора пользователя (+ данные в столбцах `total_income` и `days_employed` с малой долей вероятности совпадут у разных людей), предположим, что повторяющиеся строки - это действительно один и тот же человек и удалим дубликаты из данных.  \n",
    "Причиной появления дублей скорее всего мог быть технический сбой."
   ]
  },
  {
   "cell_type": "code",
   "execution_count": 23,
   "metadata": {},
   "outputs": [],
   "source": [
    "df = df.drop_duplicates().reset_index(drop = True)"
   ]
  },
  {
   "cell_type": "markdown",
   "metadata": {},
   "source": [
    "### 2.6 Лемматизация\n",
    "\n",
    "Сформируем таблицу-справочник с имеющимися вариантами целей получения кредита."
   ]
  },
  {
   "cell_type": "code",
   "execution_count": 24,
   "metadata": {},
   "outputs": [
    {
     "data": {
      "text/html": [
       "<div>\n",
       "<style scoped>\n",
       "    .dataframe tbody tr th:only-of-type {\n",
       "        vertical-align: middle;\n",
       "    }\n",
       "\n",
       "    .dataframe tbody tr th {\n",
       "        vertical-align: top;\n",
       "    }\n",
       "\n",
       "    .dataframe thead th {\n",
       "        text-align: right;\n",
       "    }\n",
       "</style>\n",
       "<table border=\"1\" class=\"dataframe\">\n",
       "  <thead>\n",
       "    <tr style=\"text-align: right;\">\n",
       "      <th></th>\n",
       "      <th>purpose</th>\n",
       "    </tr>\n",
       "  </thead>\n",
       "  <tbody>\n",
       "    <tr>\n",
       "      <td>0</td>\n",
       "      <td>покупка жилья</td>\n",
       "    </tr>\n",
       "    <tr>\n",
       "      <td>1</td>\n",
       "      <td>приобретение автомобиля</td>\n",
       "    </tr>\n",
       "    <tr>\n",
       "      <td>2</td>\n",
       "      <td>дополнительное образование</td>\n",
       "    </tr>\n",
       "    <tr>\n",
       "      <td>3</td>\n",
       "      <td>сыграть свадьбу</td>\n",
       "    </tr>\n",
       "    <tr>\n",
       "      <td>4</td>\n",
       "      <td>операции с жильем</td>\n",
       "    </tr>\n",
       "    <tr>\n",
       "      <td>5</td>\n",
       "      <td>образование</td>\n",
       "    </tr>\n",
       "    <tr>\n",
       "      <td>6</td>\n",
       "      <td>на проведение свадьбы</td>\n",
       "    </tr>\n",
       "    <tr>\n",
       "      <td>7</td>\n",
       "      <td>покупка жилья для семьи</td>\n",
       "    </tr>\n",
       "    <tr>\n",
       "      <td>8</td>\n",
       "      <td>покупка недвижимости</td>\n",
       "    </tr>\n",
       "    <tr>\n",
       "      <td>9</td>\n",
       "      <td>покупка коммерческой недвижимости</td>\n",
       "    </tr>\n",
       "    <tr>\n",
       "      <td>10</td>\n",
       "      <td>покупка жилой недвижимости</td>\n",
       "    </tr>\n",
       "    <tr>\n",
       "      <td>11</td>\n",
       "      <td>строительство собственной недвижимости</td>\n",
       "    </tr>\n",
       "    <tr>\n",
       "      <td>12</td>\n",
       "      <td>недвижимость</td>\n",
       "    </tr>\n",
       "    <tr>\n",
       "      <td>13</td>\n",
       "      <td>строительство недвижимости</td>\n",
       "    </tr>\n",
       "    <tr>\n",
       "      <td>14</td>\n",
       "      <td>на покупку подержанного автомобиля</td>\n",
       "    </tr>\n",
       "    <tr>\n",
       "      <td>15</td>\n",
       "      <td>на покупку своего автомобиля</td>\n",
       "    </tr>\n",
       "    <tr>\n",
       "      <td>16</td>\n",
       "      <td>операции с коммерческой недвижимостью</td>\n",
       "    </tr>\n",
       "    <tr>\n",
       "      <td>17</td>\n",
       "      <td>строительство жилой недвижимости</td>\n",
       "    </tr>\n",
       "    <tr>\n",
       "      <td>18</td>\n",
       "      <td>жилье</td>\n",
       "    </tr>\n",
       "    <tr>\n",
       "      <td>19</td>\n",
       "      <td>операции со своей недвижимостью</td>\n",
       "    </tr>\n",
       "    <tr>\n",
       "      <td>20</td>\n",
       "      <td>автомобили</td>\n",
       "    </tr>\n",
       "    <tr>\n",
       "      <td>21</td>\n",
       "      <td>заняться образованием</td>\n",
       "    </tr>\n",
       "    <tr>\n",
       "      <td>22</td>\n",
       "      <td>сделка с подержанным автомобилем</td>\n",
       "    </tr>\n",
       "    <tr>\n",
       "      <td>23</td>\n",
       "      <td>получение образования</td>\n",
       "    </tr>\n",
       "    <tr>\n",
       "      <td>24</td>\n",
       "      <td>автомобиль</td>\n",
       "    </tr>\n",
       "    <tr>\n",
       "      <td>25</td>\n",
       "      <td>свадьба</td>\n",
       "    </tr>\n",
       "    <tr>\n",
       "      <td>26</td>\n",
       "      <td>получение дополнительного образования</td>\n",
       "    </tr>\n",
       "    <tr>\n",
       "      <td>27</td>\n",
       "      <td>покупка своего жилья</td>\n",
       "    </tr>\n",
       "    <tr>\n",
       "      <td>28</td>\n",
       "      <td>операции с недвижимостью</td>\n",
       "    </tr>\n",
       "    <tr>\n",
       "      <td>29</td>\n",
       "      <td>получение высшего образования</td>\n",
       "    </tr>\n",
       "    <tr>\n",
       "      <td>30</td>\n",
       "      <td>свой автомобиль</td>\n",
       "    </tr>\n",
       "    <tr>\n",
       "      <td>31</td>\n",
       "      <td>сделка с автомобилем</td>\n",
       "    </tr>\n",
       "    <tr>\n",
       "      <td>32</td>\n",
       "      <td>профильное образование</td>\n",
       "    </tr>\n",
       "    <tr>\n",
       "      <td>33</td>\n",
       "      <td>высшее образование</td>\n",
       "    </tr>\n",
       "    <tr>\n",
       "      <td>34</td>\n",
       "      <td>покупка жилья для сдачи</td>\n",
       "    </tr>\n",
       "    <tr>\n",
       "      <td>35</td>\n",
       "      <td>на покупку автомобиля</td>\n",
       "    </tr>\n",
       "    <tr>\n",
       "      <td>36</td>\n",
       "      <td>ремонт жилью</td>\n",
       "    </tr>\n",
       "    <tr>\n",
       "      <td>37</td>\n",
       "      <td>заняться высшим образованием</td>\n",
       "    </tr>\n",
       "  </tbody>\n",
       "</table>\n",
       "</div>"
      ],
      "text/plain": [
       "                                   purpose\n",
       "0                            покупка жилья\n",
       "1                  приобретение автомобиля\n",
       "2               дополнительное образование\n",
       "3                          сыграть свадьбу\n",
       "4                        операции с жильем\n",
       "5                              образование\n",
       "6                    на проведение свадьбы\n",
       "7                  покупка жилья для семьи\n",
       "8                     покупка недвижимости\n",
       "9        покупка коммерческой недвижимости\n",
       "10              покупка жилой недвижимости\n",
       "11  строительство собственной недвижимости\n",
       "12                            недвижимость\n",
       "13              строительство недвижимости\n",
       "14      на покупку подержанного автомобиля\n",
       "15            на покупку своего автомобиля\n",
       "16   операции с коммерческой недвижимостью\n",
       "17        строительство жилой недвижимости\n",
       "18                                   жилье\n",
       "19         операции со своей недвижимостью\n",
       "20                              автомобили\n",
       "21                   заняться образованием\n",
       "22        сделка с подержанным автомобилем\n",
       "23                   получение образования\n",
       "24                              автомобиль\n",
       "25                                 свадьба\n",
       "26   получение дополнительного образования\n",
       "27                    покупка своего жилья\n",
       "28                операции с недвижимостью\n",
       "29           получение высшего образования\n",
       "30                         свой автомобиль\n",
       "31                    сделка с автомобилем\n",
       "32                  профильное образование\n",
       "33                      высшее образование\n",
       "34                 покупка жилья для сдачи\n",
       "35                   на покупку автомобиля\n",
       "36                            ремонт жилью\n",
       "37            заняться высшим образованием"
      ]
     },
     "execution_count": 24,
     "metadata": {},
     "output_type": "execute_result"
    }
   ],
   "source": [
    "purpose = df['purpose'].unique()\n",
    "purpose_table = pd.DataFrame(data = purpose, columns = ['purpose'])\n",
    "purpose_table"
   ]
  },
  {
   "cell_type": "markdown",
   "metadata": {},
   "source": [
    "Лемматизируем список имеющихся целей получения кредита и сформируем столбец с уникальными категориями."
   ]
  },
  {
   "cell_type": "code",
   "execution_count": 25,
   "metadata": {},
   "outputs": [
    {
     "data": {
      "text/html": [
       "<div>\n",
       "<style scoped>\n",
       "    .dataframe tbody tr th:only-of-type {\n",
       "        vertical-align: middle;\n",
       "    }\n",
       "\n",
       "    .dataframe tbody tr th {\n",
       "        vertical-align: top;\n",
       "    }\n",
       "\n",
       "    .dataframe thead th {\n",
       "        text-align: right;\n",
       "    }\n",
       "</style>\n",
       "<table border=\"1\" class=\"dataframe\">\n",
       "  <thead>\n",
       "    <tr style=\"text-align: right;\">\n",
       "      <th></th>\n",
       "      <th>purpose</th>\n",
       "      <th>purpose_category</th>\n",
       "    </tr>\n",
       "  </thead>\n",
       "  <tbody>\n",
       "    <tr>\n",
       "      <td>0</td>\n",
       "      <td>покупка жилья</td>\n",
       "      <td>Займ на операции с недвижимостью</td>\n",
       "    </tr>\n",
       "    <tr>\n",
       "      <td>1</td>\n",
       "      <td>приобретение автомобиля</td>\n",
       "      <td>Займ на покупку автомобиля</td>\n",
       "    </tr>\n",
       "    <tr>\n",
       "      <td>2</td>\n",
       "      <td>дополнительное образование</td>\n",
       "      <td>Займ на получение образования</td>\n",
       "    </tr>\n",
       "    <tr>\n",
       "      <td>3</td>\n",
       "      <td>сыграть свадьбу</td>\n",
       "      <td>Займ на проведение свадьбы</td>\n",
       "    </tr>\n",
       "    <tr>\n",
       "      <td>4</td>\n",
       "      <td>операции с жильем</td>\n",
       "      <td>Займ на операции с недвижимостью</td>\n",
       "    </tr>\n",
       "    <tr>\n",
       "      <td>5</td>\n",
       "      <td>образование</td>\n",
       "      <td>Займ на получение образования</td>\n",
       "    </tr>\n",
       "    <tr>\n",
       "      <td>6</td>\n",
       "      <td>на проведение свадьбы</td>\n",
       "      <td>Займ на проведение свадьбы</td>\n",
       "    </tr>\n",
       "    <tr>\n",
       "      <td>7</td>\n",
       "      <td>покупка жилья для семьи</td>\n",
       "      <td>Займ на операции с недвижимостью</td>\n",
       "    </tr>\n",
       "    <tr>\n",
       "      <td>8</td>\n",
       "      <td>покупка недвижимости</td>\n",
       "      <td>Займ на операции с недвижимостью</td>\n",
       "    </tr>\n",
       "    <tr>\n",
       "      <td>9</td>\n",
       "      <td>покупка коммерческой недвижимости</td>\n",
       "      <td>Займ на операции с недвижимостью</td>\n",
       "    </tr>\n",
       "    <tr>\n",
       "      <td>10</td>\n",
       "      <td>покупка жилой недвижимости</td>\n",
       "      <td>Займ на операции с недвижимостью</td>\n",
       "    </tr>\n",
       "    <tr>\n",
       "      <td>11</td>\n",
       "      <td>строительство собственной недвижимости</td>\n",
       "      <td>Займ на операции с недвижимостью</td>\n",
       "    </tr>\n",
       "    <tr>\n",
       "      <td>12</td>\n",
       "      <td>недвижимость</td>\n",
       "      <td>Займ на операции с недвижимостью</td>\n",
       "    </tr>\n",
       "    <tr>\n",
       "      <td>13</td>\n",
       "      <td>строительство недвижимости</td>\n",
       "      <td>Займ на операции с недвижимостью</td>\n",
       "    </tr>\n",
       "    <tr>\n",
       "      <td>14</td>\n",
       "      <td>на покупку подержанного автомобиля</td>\n",
       "      <td>Займ на покупку автомобиля</td>\n",
       "    </tr>\n",
       "    <tr>\n",
       "      <td>15</td>\n",
       "      <td>на покупку своего автомобиля</td>\n",
       "      <td>Займ на покупку автомобиля</td>\n",
       "    </tr>\n",
       "    <tr>\n",
       "      <td>16</td>\n",
       "      <td>операции с коммерческой недвижимостью</td>\n",
       "      <td>Займ на операции с недвижимостью</td>\n",
       "    </tr>\n",
       "    <tr>\n",
       "      <td>17</td>\n",
       "      <td>строительство жилой недвижимости</td>\n",
       "      <td>Займ на операции с недвижимостью</td>\n",
       "    </tr>\n",
       "    <tr>\n",
       "      <td>18</td>\n",
       "      <td>жилье</td>\n",
       "      <td>Займ на операции с недвижимостью</td>\n",
       "    </tr>\n",
       "    <tr>\n",
       "      <td>19</td>\n",
       "      <td>операции со своей недвижимостью</td>\n",
       "      <td>Займ на операции с недвижимостью</td>\n",
       "    </tr>\n",
       "    <tr>\n",
       "      <td>20</td>\n",
       "      <td>автомобили</td>\n",
       "      <td>Займ на покупку автомобиля</td>\n",
       "    </tr>\n",
       "    <tr>\n",
       "      <td>21</td>\n",
       "      <td>заняться образованием</td>\n",
       "      <td>Займ на получение образования</td>\n",
       "    </tr>\n",
       "    <tr>\n",
       "      <td>22</td>\n",
       "      <td>сделка с подержанным автомобилем</td>\n",
       "      <td>Займ на покупку автомобиля</td>\n",
       "    </tr>\n",
       "    <tr>\n",
       "      <td>23</td>\n",
       "      <td>получение образования</td>\n",
       "      <td>Займ на получение образования</td>\n",
       "    </tr>\n",
       "    <tr>\n",
       "      <td>24</td>\n",
       "      <td>автомобиль</td>\n",
       "      <td>Займ на покупку автомобиля</td>\n",
       "    </tr>\n",
       "    <tr>\n",
       "      <td>25</td>\n",
       "      <td>свадьба</td>\n",
       "      <td>Займ на проведение свадьбы</td>\n",
       "    </tr>\n",
       "    <tr>\n",
       "      <td>26</td>\n",
       "      <td>получение дополнительного образования</td>\n",
       "      <td>Займ на получение образования</td>\n",
       "    </tr>\n",
       "    <tr>\n",
       "      <td>27</td>\n",
       "      <td>покупка своего жилья</td>\n",
       "      <td>Займ на операции с недвижимостью</td>\n",
       "    </tr>\n",
       "    <tr>\n",
       "      <td>28</td>\n",
       "      <td>операции с недвижимостью</td>\n",
       "      <td>Займ на операции с недвижимостью</td>\n",
       "    </tr>\n",
       "    <tr>\n",
       "      <td>29</td>\n",
       "      <td>получение высшего образования</td>\n",
       "      <td>Займ на получение образования</td>\n",
       "    </tr>\n",
       "    <tr>\n",
       "      <td>30</td>\n",
       "      <td>свой автомобиль</td>\n",
       "      <td>Займ на покупку автомобиля</td>\n",
       "    </tr>\n",
       "    <tr>\n",
       "      <td>31</td>\n",
       "      <td>сделка с автомобилем</td>\n",
       "      <td>Займ на покупку автомобиля</td>\n",
       "    </tr>\n",
       "    <tr>\n",
       "      <td>32</td>\n",
       "      <td>профильное образование</td>\n",
       "      <td>Займ на получение образования</td>\n",
       "    </tr>\n",
       "    <tr>\n",
       "      <td>33</td>\n",
       "      <td>высшее образование</td>\n",
       "      <td>Займ на получение образования</td>\n",
       "    </tr>\n",
       "    <tr>\n",
       "      <td>34</td>\n",
       "      <td>покупка жилья для сдачи</td>\n",
       "      <td>Займ на операции с недвижимостью</td>\n",
       "    </tr>\n",
       "    <tr>\n",
       "      <td>35</td>\n",
       "      <td>на покупку автомобиля</td>\n",
       "      <td>Займ на покупку автомобиля</td>\n",
       "    </tr>\n",
       "    <tr>\n",
       "      <td>36</td>\n",
       "      <td>ремонт жилью</td>\n",
       "      <td>Займ на операции с недвижимостью</td>\n",
       "    </tr>\n",
       "    <tr>\n",
       "      <td>37</td>\n",
       "      <td>заняться высшим образованием</td>\n",
       "      <td>Займ на получение образования</td>\n",
       "    </tr>\n",
       "  </tbody>\n",
       "</table>\n",
       "</div>"
      ],
      "text/plain": [
       "                                   purpose                  purpose_category\n",
       "0                            покупка жилья  Займ на операции с недвижимостью\n",
       "1                  приобретение автомобиля        Займ на покупку автомобиля\n",
       "2               дополнительное образование     Займ на получение образования\n",
       "3                          сыграть свадьбу        Займ на проведение свадьбы\n",
       "4                        операции с жильем  Займ на операции с недвижимостью\n",
       "5                              образование     Займ на получение образования\n",
       "6                    на проведение свадьбы        Займ на проведение свадьбы\n",
       "7                  покупка жилья для семьи  Займ на операции с недвижимостью\n",
       "8                     покупка недвижимости  Займ на операции с недвижимостью\n",
       "9        покупка коммерческой недвижимости  Займ на операции с недвижимостью\n",
       "10              покупка жилой недвижимости  Займ на операции с недвижимостью\n",
       "11  строительство собственной недвижимости  Займ на операции с недвижимостью\n",
       "12                            недвижимость  Займ на операции с недвижимостью\n",
       "13              строительство недвижимости  Займ на операции с недвижимостью\n",
       "14      на покупку подержанного автомобиля        Займ на покупку автомобиля\n",
       "15            на покупку своего автомобиля        Займ на покупку автомобиля\n",
       "16   операции с коммерческой недвижимостью  Займ на операции с недвижимостью\n",
       "17        строительство жилой недвижимости  Займ на операции с недвижимостью\n",
       "18                                   жилье  Займ на операции с недвижимостью\n",
       "19         операции со своей недвижимостью  Займ на операции с недвижимостью\n",
       "20                              автомобили        Займ на покупку автомобиля\n",
       "21                   заняться образованием     Займ на получение образования\n",
       "22        сделка с подержанным автомобилем        Займ на покупку автомобиля\n",
       "23                   получение образования     Займ на получение образования\n",
       "24                              автомобиль        Займ на покупку автомобиля\n",
       "25                                 свадьба        Займ на проведение свадьбы\n",
       "26   получение дополнительного образования     Займ на получение образования\n",
       "27                    покупка своего жилья  Займ на операции с недвижимостью\n",
       "28                операции с недвижимостью  Займ на операции с недвижимостью\n",
       "29           получение высшего образования     Займ на получение образования\n",
       "30                         свой автомобиль        Займ на покупку автомобиля\n",
       "31                    сделка с автомобилем        Займ на покупку автомобиля\n",
       "32                  профильное образование     Займ на получение образования\n",
       "33                      высшее образование     Займ на получение образования\n",
       "34                 покупка жилья для сдачи  Займ на операции с недвижимостью\n",
       "35                   на покупку автомобиля        Займ на покупку автомобиля\n",
       "36                            ремонт жилью  Займ на операции с недвижимостью\n",
       "37            заняться высшим образованием     Займ на получение образования"
      ]
     },
     "execution_count": 25,
     "metadata": {},
     "output_type": "execute_result"
    }
   ],
   "source": [
    "m = Mystem() \n",
    "purpose_table['lemmas'] = purpose_table['purpose'].apply(m.lemmatize)\n",
    "\n",
    "def purpose_category(lemmas):\n",
    "    for lemma in lemmas:\n",
    "        if lemma in ('жилье', 'недвижимость'):\n",
    "            return 'Займ на операции с недвижимостью'\n",
    "        if lemma == 'автомобиль':\n",
    "            return 'Займ на покупку автомобиля'\n",
    "        if lemma == 'образование':\n",
    "            return 'Займ на получение образования'\n",
    "        if lemma == 'свадьба':\n",
    "            return 'Займ на проведение свадьбы'\n",
    "\n",
    "purpose_table['purpose_category'] = purpose_table['lemmas'].apply(purpose_category)\n",
    "purpose_table = purpose_table.loc[:,['purpose','purpose_category']]\n",
    "purpose_table"
   ]
  },
  {
   "cell_type": "markdown",
   "metadata": {},
   "source": [
    "Перенесем в исходную таблицу названия полученных категорий."
   ]
  },
  {
   "cell_type": "code",
   "execution_count": 26,
   "metadata": {},
   "outputs": [],
   "source": [
    "df = df.merge(purpose_table, on = 'purpose', how = 'left')"
   ]
  },
  {
   "cell_type": "markdown",
   "metadata": {},
   "source": [
    "### 2.7 Категоризация данных "
   ]
  },
  {
   "cell_type": "markdown",
   "metadata": {},
   "source": [
    "Для удобства категоризируем данные в столбцах `children`, `dob_years` и `total_income`.  \n",
    "Начнем со столбца `children`, который может принимать значения от `0` до `5`.  \n",
    "Поделим всех клиентов на 3 группы:\n",
    "* клиенты, не имеющие детей;\n",
    "* клиенты с 1-2 детьми;\n",
    "* многодетные семьи."
   ]
  },
  {
   "cell_type": "code",
   "execution_count": 27,
   "metadata": {},
   "outputs": [],
   "source": [
    "def children_group(children):\n",
    "    if children == 0:\n",
    "        return 'нет детей'\n",
    "    if 1 <= children <= 2:\n",
    "        return '1-2 ребенка'\n",
    "    return 'многодетная семья'\n",
    "df['children_group'] = df['children'].apply(children_group)"
   ]
  },
  {
   "cell_type": "markdown",
   "metadata": {},
   "source": [
    "Столбец `dob_years`, который принимает значения от `19` до `75`, разделим также на 3 группы:\n",
    "* 18-35 (молодежь);\n",
    "* 36-65 (взрослые люди);\n",
    "* старше 65 (пенсионеры).\n",
    "\n",
    "Возраст младше 18 не включаем в категоризацию, так как кредиты детям и подросткам не выдают."
   ]
  },
  {
   "cell_type": "code",
   "execution_count": 28,
   "metadata": {},
   "outputs": [],
   "source": [
    "def dob_years_group(dob_years):\n",
    "    if 18 <= dob_years < 36:\n",
    "        return '18-35 (молодежь)'\n",
    "    if 36 <= dob_years < 66:\n",
    "        return '36-65 (взрослые люди)'\n",
    "    return 'старше 65 (пенсионеры)'\n",
    "df['dob_years_group'] = df['dob_years'].apply(dob_years_group)"
   ]
  },
  {
   "cell_type": "markdown",
   "metadata": {},
   "source": [
    "Посмотрим основную информацию о столбце `total_income`."
   ]
  },
  {
   "cell_type": "code",
   "execution_count": 29,
   "metadata": {},
   "outputs": [
    {
     "data": {
      "text/plain": [
       "count      21454\n",
       "mean      167431\n",
       "std        98060\n",
       "min        20667\n",
       "25%       107623\n",
       "50%       151887\n",
       "75%       202417\n",
       "max      2265604\n",
       "Name: total_income, dtype: int64"
      ]
     },
     "execution_count": 29,
     "metadata": {},
     "output_type": "execute_result"
    }
   ],
   "source": [
    "df['total_income'].describe().astype('int')"
   ]
  },
  {
   "cell_type": "markdown",
   "metadata": {},
   "source": [
    "Разделим клиентов по столбцу `total_income` на 4 группы согласно персентилям:\n",
    "* низкий доход (менее 110 тыс.);\n",
    "* средний доход (от 110 тыс. до 155 тыс.);\n",
    "* высокий доход (от 155 тыс. до 205 тыс.);\n",
    "* сверхдоход (более 205 тыс.)."
   ]
  },
  {
   "cell_type": "code",
   "execution_count": 30,
   "metadata": {},
   "outputs": [],
   "source": [
    "def total_income_group(total_income):\n",
    "    if total_income <= 110000:\n",
    "        return 'низкий доход'\n",
    "    if 110001 <= total_income <= 155000:\n",
    "        return 'средний доход'\n",
    "    if 155001 <= total_income <= 205000:\n",
    "        return 'высокий доход'\n",
    "    return 'сверхдоход'\n",
    "df['total_income_group'] = df['total_income'].apply(total_income_group)"
   ]
  },
  {
   "cell_type": "markdown",
   "metadata": {},
   "source": [
    "***"
   ]
  },
  {
   "cell_type": "markdown",
   "metadata": {},
   "source": [
    "## 3 Анализ зависимостей и формулировка выводов  "
   ]
  },
  {
   "cell_type": "markdown",
   "metadata": {},
   "source": [
    "### 3.1 Есть ли зависимость между количеством детей и возвратом кредита в срок?"
   ]
  },
  {
   "cell_type": "markdown",
   "metadata": {},
   "source": [
    "Найдем процент должников среди различных категорий клиентов по количеству детей."
   ]
  },
  {
   "cell_type": "code",
   "execution_count": 31,
   "metadata": {},
   "outputs": [
    {
     "data": {
      "text/html": [
       "<div>\n",
       "<style scoped>\n",
       "    .dataframe tbody tr th:only-of-type {\n",
       "        vertical-align: middle;\n",
       "    }\n",
       "\n",
       "    .dataframe tbody tr th {\n",
       "        vertical-align: top;\n",
       "    }\n",
       "\n",
       "    .dataframe thead tr th {\n",
       "        text-align: left;\n",
       "    }\n",
       "</style>\n",
       "<table border=\"1\" class=\"dataframe\">\n",
       "  <thead>\n",
       "    <tr>\n",
       "      <th></th>\n",
       "      <th>children_group</th>\n",
       "      <th colspan=\"2\" halign=\"left\">debt</th>\n",
       "      <th>share_of_debtors</th>\n",
       "    </tr>\n",
       "    <tr>\n",
       "      <th></th>\n",
       "      <th></th>\n",
       "      <th>count</th>\n",
       "      <th>sum</th>\n",
       "      <th></th>\n",
       "    </tr>\n",
       "  </thead>\n",
       "  <tbody>\n",
       "    <tr>\n",
       "      <td>0</td>\n",
       "      <td>1-2 ребенка</td>\n",
       "      <td>6968</td>\n",
       "      <td>645</td>\n",
       "      <td>9.26%</td>\n",
       "    </tr>\n",
       "    <tr>\n",
       "      <td>1</td>\n",
       "      <td>многодетная семья</td>\n",
       "      <td>380</td>\n",
       "      <td>31</td>\n",
       "      <td>8.16%</td>\n",
       "    </tr>\n",
       "    <tr>\n",
       "      <td>2</td>\n",
       "      <td>нет детей</td>\n",
       "      <td>14106</td>\n",
       "      <td>1065</td>\n",
       "      <td>7.55%</td>\n",
       "    </tr>\n",
       "  </tbody>\n",
       "</table>\n",
       "</div>"
      ],
      "text/plain": [
       "      children_group   debt       share_of_debtors\n",
       "                      count   sum                 \n",
       "0        1-2 ребенка   6968   645            9.26%\n",
       "1  многодетная семья    380    31            8.16%\n",
       "2          нет детей  14106  1065            7.55%"
      ]
     },
     "execution_count": 31,
     "metadata": {},
     "output_type": "execute_result"
    }
   ],
   "source": [
    "children_group_table = df.groupby('children_group').agg({'debt': ['count', 'sum']})\n",
    "children_group_table['share_of_debtors'] = children_group_table['debt']['sum'] / children_group_table['debt']['count']\n",
    "children_group_table['share_of_debtors'] = children_group_table['share_of_debtors'].map('{:.2%}'.format)\n",
    "children_group_table.reset_index()"
   ]
  },
  {
   "cell_type": "markdown",
   "metadata": {},
   "source": [
    "**Выводы:**\n",
    "* Выделяется группа клиентов с количеством детей, равным 1-2: по ним наибольший % невозврата кредита среди остальных групп клиентов.  \n",
    "* Наименьший % должников наблюдается в группе клиентов, у которых детей нет."
   ]
  },
  {
   "cell_type": "markdown",
   "metadata": {},
   "source": [
    "### 3.2 Есть ли зависимость между семейным положением и возвратом кредита в срок?"
   ]
  },
  {
   "cell_type": "markdown",
   "metadata": {},
   "source": [
    "Найдем процент должников среди различных категорий клиентов по семейному положению."
   ]
  },
  {
   "cell_type": "code",
   "execution_count": 32,
   "metadata": {},
   "outputs": [
    {
     "data": {
      "text/html": [
       "<div>\n",
       "<style scoped>\n",
       "    .dataframe tbody tr th:only-of-type {\n",
       "        vertical-align: middle;\n",
       "    }\n",
       "\n",
       "    .dataframe tbody tr th {\n",
       "        vertical-align: top;\n",
       "    }\n",
       "\n",
       "    .dataframe thead tr th {\n",
       "        text-align: left;\n",
       "    }\n",
       "</style>\n",
       "<table border=\"1\" class=\"dataframe\">\n",
       "  <thead>\n",
       "    <tr>\n",
       "      <th></th>\n",
       "      <th>family_status</th>\n",
       "      <th colspan=\"2\" halign=\"left\">debt</th>\n",
       "      <th>share_of_debtors</th>\n",
       "    </tr>\n",
       "    <tr>\n",
       "      <th></th>\n",
       "      <th></th>\n",
       "      <th>count</th>\n",
       "      <th>sum</th>\n",
       "      <th></th>\n",
       "    </tr>\n",
       "  </thead>\n",
       "  <tbody>\n",
       "    <tr>\n",
       "      <td>0</td>\n",
       "      <td>Не женат / не замужем</td>\n",
       "      <td>2810</td>\n",
       "      <td>274</td>\n",
       "      <td>9.75%</td>\n",
       "    </tr>\n",
       "    <tr>\n",
       "      <td>1</td>\n",
       "      <td>в разводе</td>\n",
       "      <td>1195</td>\n",
       "      <td>85</td>\n",
       "      <td>7.11%</td>\n",
       "    </tr>\n",
       "    <tr>\n",
       "      <td>2</td>\n",
       "      <td>вдовец / вдова</td>\n",
       "      <td>959</td>\n",
       "      <td>63</td>\n",
       "      <td>6.57%</td>\n",
       "    </tr>\n",
       "    <tr>\n",
       "      <td>3</td>\n",
       "      <td>гражданский брак</td>\n",
       "      <td>4151</td>\n",
       "      <td>388</td>\n",
       "      <td>9.35%</td>\n",
       "    </tr>\n",
       "    <tr>\n",
       "      <td>4</td>\n",
       "      <td>женат / замужем</td>\n",
       "      <td>12339</td>\n",
       "      <td>931</td>\n",
       "      <td>7.55%</td>\n",
       "    </tr>\n",
       "  </tbody>\n",
       "</table>\n",
       "</div>"
      ],
      "text/plain": [
       "           family_status   debt      share_of_debtors\n",
       "                          count  sum                 \n",
       "0  Не женат / не замужем   2810  274            9.75%\n",
       "1              в разводе   1195   85            7.11%\n",
       "2         вдовец / вдова    959   63            6.57%\n",
       "3       гражданский брак   4151  388            9.35%\n",
       "4        женат / замужем  12339  931            7.55%"
      ]
     },
     "execution_count": 32,
     "metadata": {},
     "output_type": "execute_result"
    }
   ],
   "source": [
    "family_status_table = df.groupby('family_status').agg({'debt': ['count', 'sum']})\n",
    "family_status_table['share_of_debtors'] = family_status_table['debt']['sum'] / family_status_table['debt']['count']\n",
    "family_status_table['share_of_debtors'] = family_status_table['share_of_debtors'].map('{:.2%}'.format)\n",
    "family_status_table.reset_index()"
   ]
  },
  {
   "cell_type": "markdown",
   "metadata": {},
   "source": [
    "**Выводы:**\n",
    "* Наибольший % должников по кредиту наблюдается в группах с семейным положением `Не женат / не замужем` и `гражданский брак`.  \n",
    "* В группах с семейным положением `женат / замужем` и `в разводе` примерно одинаковый % должников.  \n",
    "* Наименьший % должников имеет группа `вдовец / вдова`. "
   ]
  },
  {
   "cell_type": "markdown",
   "metadata": {},
   "source": [
    "### 3.3 Есть ли зависимость между уровнем дохода и возвратом кредита в срок? "
   ]
  },
  {
   "cell_type": "markdown",
   "metadata": {},
   "source": [
    "Найдем процент должников среди различных категорий клиентов по уровню дохода."
   ]
  },
  {
   "cell_type": "code",
   "execution_count": 33,
   "metadata": {},
   "outputs": [
    {
     "data": {
      "text/html": [
       "<div>\n",
       "<style scoped>\n",
       "    .dataframe tbody tr th:only-of-type {\n",
       "        vertical-align: middle;\n",
       "    }\n",
       "\n",
       "    .dataframe tbody tr th {\n",
       "        vertical-align: top;\n",
       "    }\n",
       "\n",
       "    .dataframe thead tr th {\n",
       "        text-align: left;\n",
       "    }\n",
       "</style>\n",
       "<table border=\"1\" class=\"dataframe\">\n",
       "  <thead>\n",
       "    <tr>\n",
       "      <th></th>\n",
       "      <th>total_income_group</th>\n",
       "      <th colspan=\"2\" halign=\"left\">debt</th>\n",
       "      <th>share_of_debtors</th>\n",
       "    </tr>\n",
       "    <tr>\n",
       "      <th></th>\n",
       "      <th></th>\n",
       "      <th>count</th>\n",
       "      <th>sum</th>\n",
       "      <th></th>\n",
       "    </tr>\n",
       "  </thead>\n",
       "  <tbody>\n",
       "    <tr>\n",
       "      <td>0</td>\n",
       "      <td>высокий доход</td>\n",
       "      <td>5698</td>\n",
       "      <td>490</td>\n",
       "      <td>8.60%</td>\n",
       "    </tr>\n",
       "    <tr>\n",
       "      <td>1</td>\n",
       "      <td>низкий доход</td>\n",
       "      <td>5642</td>\n",
       "      <td>455</td>\n",
       "      <td>8.06%</td>\n",
       "    </tr>\n",
       "    <tr>\n",
       "      <td>2</td>\n",
       "      <td>сверхдоход</td>\n",
       "      <td>4735</td>\n",
       "      <td>330</td>\n",
       "      <td>6.97%</td>\n",
       "    </tr>\n",
       "    <tr>\n",
       "      <td>3</td>\n",
       "      <td>средний доход</td>\n",
       "      <td>5379</td>\n",
       "      <td>466</td>\n",
       "      <td>8.66%</td>\n",
       "    </tr>\n",
       "  </tbody>\n",
       "</table>\n",
       "</div>"
      ],
      "text/plain": [
       "  total_income_group  debt      share_of_debtors\n",
       "                     count  sum                 \n",
       "0      высокий доход  5698  490            8.60%\n",
       "1       низкий доход  5642  455            8.06%\n",
       "2         сверхдоход  4735  330            6.97%\n",
       "3      средний доход  5379  466            8.66%"
      ]
     },
     "execution_count": 33,
     "metadata": {},
     "output_type": "execute_result"
    }
   ],
   "source": [
    "total_income_group_table = df.groupby('total_income_group').agg({'debt': ['count', 'sum']})\n",
    "total_income_group_table['share_of_debtors'] = total_income_group_table['debt']['sum'] / total_income_group_table['debt']['count']\n",
    "total_income_group_table['share_of_debtors'] = total_income_group_table['share_of_debtors'].map('{:.2%}'.format)\n",
    "total_income_group_table.reset_index()"
   ]
  },
  {
   "cell_type": "markdown",
   "metadata": {},
   "source": [
    "**Выводы:**\n",
    "* Клиенты с `низким`, `средним` и `высоким` доходом имеют примерно одинаковую долю должников в своих группах.  \n",
    "* Немного выделяется группа клиентов со `сверхдоходом`: % невозврата кредита в срок по ним ниже, чем по остальным группам клиентов. "
   ]
  },
  {
   "cell_type": "markdown",
   "metadata": {},
   "source": [
    "### 3.4 Как разные цели кредита влияют на его возврат в срок?"
   ]
  },
  {
   "cell_type": "markdown",
   "metadata": {},
   "source": [
    "Найдем процент должников среди различных категорий клиентов по цели кредита."
   ]
  },
  {
   "cell_type": "code",
   "execution_count": 34,
   "metadata": {},
   "outputs": [
    {
     "data": {
      "text/html": [
       "<div>\n",
       "<style scoped>\n",
       "    .dataframe tbody tr th:only-of-type {\n",
       "        vertical-align: middle;\n",
       "    }\n",
       "\n",
       "    .dataframe tbody tr th {\n",
       "        vertical-align: top;\n",
       "    }\n",
       "\n",
       "    .dataframe thead tr th {\n",
       "        text-align: left;\n",
       "    }\n",
       "</style>\n",
       "<table border=\"1\" class=\"dataframe\">\n",
       "  <thead>\n",
       "    <tr>\n",
       "      <th></th>\n",
       "      <th>purpose_category</th>\n",
       "      <th colspan=\"2\" halign=\"left\">debt</th>\n",
       "      <th>share_of_debtors</th>\n",
       "    </tr>\n",
       "    <tr>\n",
       "      <th></th>\n",
       "      <th></th>\n",
       "      <th>count</th>\n",
       "      <th>sum</th>\n",
       "      <th></th>\n",
       "    </tr>\n",
       "  </thead>\n",
       "  <tbody>\n",
       "    <tr>\n",
       "      <td>0</td>\n",
       "      <td>Займ на операции с недвижимостью</td>\n",
       "      <td>10811</td>\n",
       "      <td>782</td>\n",
       "      <td>7.23%</td>\n",
       "    </tr>\n",
       "    <tr>\n",
       "      <td>1</td>\n",
       "      <td>Займ на покупку автомобиля</td>\n",
       "      <td>4306</td>\n",
       "      <td>403</td>\n",
       "      <td>9.36%</td>\n",
       "    </tr>\n",
       "    <tr>\n",
       "      <td>2</td>\n",
       "      <td>Займ на получение образования</td>\n",
       "      <td>4013</td>\n",
       "      <td>370</td>\n",
       "      <td>9.22%</td>\n",
       "    </tr>\n",
       "    <tr>\n",
       "      <td>3</td>\n",
       "      <td>Займ на проведение свадьбы</td>\n",
       "      <td>2324</td>\n",
       "      <td>186</td>\n",
       "      <td>8.00%</td>\n",
       "    </tr>\n",
       "  </tbody>\n",
       "</table>\n",
       "</div>"
      ],
      "text/plain": [
       "                   purpose_category   debt      share_of_debtors\n",
       "                                     count  sum                 \n",
       "0  Займ на операции с недвижимостью  10811  782            7.23%\n",
       "1        Займ на покупку автомобиля   4306  403            9.36%\n",
       "2     Займ на получение образования   4013  370            9.22%\n",
       "3        Займ на проведение свадьбы   2324  186            8.00%"
      ]
     },
     "execution_count": 34,
     "metadata": {},
     "output_type": "execute_result"
    }
   ],
   "source": [
    "purpose_category_table = df.groupby('purpose_category').agg({'debt': ['count', 'sum']})\n",
    "purpose_category_table['share_of_debtors'] = purpose_category_table['debt']['sum'] / purpose_category_table['debt']['count']\n",
    "purpose_category_table['share_of_debtors'] = purpose_category_table['share_of_debtors'].map('{:.2%}'.format)\n",
    "purpose_category_table.reset_index()"
   ]
  },
  {
   "cell_type": "markdown",
   "metadata": {},
   "source": [
    "**Выводы:**\n",
    "* Наибольший % невозврата кредита наблюдается по кредитам на `покупку автомобиля` и на `получение образования`.  \n",
    "* Самый низкий % должников находится в группе кредит на `операции с недвижимостью`."
   ]
  },
  {
   "cell_type": "markdown",
   "metadata": {},
   "source": [
    "***"
   ]
  },
  {
   "cell_type": "markdown",
   "metadata": {},
   "source": [
    "## 4 Общий вывод по проекту "
   ]
  },
  {
   "cell_type": "markdown",
   "metadata": {},
   "source": [
    "После анализа предоставленных заказчиком данных можно сделать следующие выводы об имеющихся зависимостях:\n",
    "\n",
    "\n",
    "1. **Зависимость между количеством детей и возвратом кредита в срок:**\n",
    "    * Клиенты, не имеющие детей, с большой долей вероятности вернут кредит в срок;  \n",
    "    * Для клиентов с 1-2 детьми риск невозврата кредита в срок увеличивается на 1.7 п.п.;  \n",
    "    * Вероятность невозврата кредита у клиентов, имеющих многодетные семьи, увеличивается на 0.6 п.п. по сравнению с клиентами без детей.\n",
    "    \n",
    "    \n",
    "2. **Зависимость между семейным положением и возвратом кредита в срок**:\n",
    "    * Наибольший и примерно одинаковый % должников по кредиту наблюдается в группах с семейным положением `Не женат / не замужем` и `гражданский брак`.  \n",
    "    * В группах с семейным положением `женат / замужем` и `в разводе` также примерно одинаковый % должников.  \n",
    "    * Так как значения доли должников в диаметрально противоположных группах клиентов схожи, можно сделать вывод, что зависимости между семейным положением клиента и невозвратом кредита в срок нет.\n",
    "    \n",
    "    \n",
    "3. **Зависимость между уровнем дохода и возвратом кредита в срок:**\n",
    "    * Клиенты с `низким`, `средним` и `высоким` доходом имеют примерно одинаковую долю должников в своих группах.  \n",
    "    * % невозврата кредита в срок по группе клиентов со `сверхдоходом` ниже, чем по остальным группам клиентов. Это можно объяснить тем, что у данной категории клиентов проблем с деньгами и их отсутствием меньше, чем у остальных групп.\n",
    "    \n",
    "    \n",
    "4. **Зависимость между целью кредита и возвратом кредита в срок:**\n",
    "    * Кредиты, взятые с целью `покупки автомобиля` или `получения образования` с большей вероятностью не будут возвращены в срок.  \n",
    "    * Самый низкий % должников находится в группе кредит `на операции с недвижимостью`. Возможно, это связано с тем, что срок возврата по таким кредитам обычно очень большой."
   ]
  },
  {
   "cell_type": "markdown",
   "metadata": {},
   "source": [
    "***"
   ]
  },
  {
   "cell_type": "markdown",
   "metadata": {},
   "source": [
    "## 5 Рекомендации"
   ]
  },
  {
   "cell_type": "markdown",
   "metadata": {},
   "source": [
    "Скорее всего данные о клиентах были получены путем анкетирования.  \n",
    "Если это действительно так, то предлагаю следующие рекомендации:\n",
    "* Для упрощения обработки данных рекомендуется заполнять информацию в ячейках `education`, `gender`, `purpose` готовыми вариантами ответа, чтобы унифицировать значения и избежать ошибочного заполнения данных.\n",
    "* Для избежания ошибок в столбцах `children` и `dob_years` необходимо на входе проверять введенные клиентом значения на их ошибочность (детей не может быть -1, возраст не может равняться нулю).\n",
    "* Значения в столбце `days_employed` требуют доработки, в данном виде они непригодны к анализу."
   ]
  }
 ],
 "metadata": {
  "ExecuteTimeLog": [
   {
    "duration": 847,
    "start_time": "2021-07-22T15:45:19.294Z"
   },
   {
    "duration": 6,
    "start_time": "2021-07-22T15:45:20.144Z"
   },
   {
    "duration": 33,
    "start_time": "2021-07-22T15:45:20.153Z"
   },
   {
    "duration": 7,
    "start_time": "2021-07-22T15:45:20.189Z"
   },
   {
    "duration": 9,
    "start_time": "2021-07-22T15:45:20.199Z"
   },
   {
    "duration": 11,
    "start_time": "2021-07-22T15:45:20.210Z"
   },
   {
    "duration": 11,
    "start_time": "2021-07-22T15:45:20.223Z"
   },
   {
    "duration": 49,
    "start_time": "2021-07-22T15:45:20.237Z"
   },
   {
    "duration": 10,
    "start_time": "2021-07-22T15:45:20.289Z"
   },
   {
    "duration": 10,
    "start_time": "2021-07-22T15:45:20.302Z"
   },
   {
    "duration": 13,
    "start_time": "2021-07-22T15:45:20.314Z"
   },
   {
    "duration": 14,
    "start_time": "2021-07-22T15:45:20.329Z"
   },
   {
    "duration": 105,
    "start_time": "2021-07-22T15:45:20.345Z"
   },
   {
    "duration": 70,
    "start_time": "2021-07-22T15:45:20.453Z"
   },
   {
    "duration": 74,
    "start_time": "2021-07-22T15:45:20.525Z"
   },
   {
    "duration": 11,
    "start_time": "2021-07-22T15:45:20.602Z"
   },
   {
    "duration": 18,
    "start_time": "2021-07-22T15:45:20.616Z"
   },
   {
    "duration": 21,
    "start_time": "2021-07-22T15:45:20.636Z"
   },
   {
    "duration": 47,
    "start_time": "2021-07-22T15:45:20.659Z"
   },
   {
    "duration": 28,
    "start_time": "2021-07-22T15:45:20.709Z"
   },
   {
    "duration": 70,
    "start_time": "2021-07-22T15:45:20.740Z"
   },
   {
    "duration": 13,
    "start_time": "2021-07-22T15:45:20.813Z"
   },
   {
    "duration": 935,
    "start_time": "2021-07-22T15:45:20.830Z"
   },
   {
    "duration": 49,
    "start_time": "2021-07-22T15:45:21.768Z"
   },
   {
    "duration": 28,
    "start_time": "2021-07-22T15:45:21.820Z"
   },
   {
    "duration": 52,
    "start_time": "2021-07-22T15:45:21.850Z"
   },
   {
    "duration": 14,
    "start_time": "2021-07-22T15:45:21.905Z"
   },
   {
    "duration": 65,
    "start_time": "2021-07-22T15:45:21.922Z"
   },
   {
    "duration": 53,
    "start_time": "2021-07-22T15:45:21.991Z"
   },
   {
    "duration": 40,
    "start_time": "2021-07-22T15:45:22.046Z"
   },
   {
    "duration": 26,
    "start_time": "2021-07-22T15:45:22.089Z"
   },
   {
    "duration": 27,
    "start_time": "2021-07-22T15:45:22.117Z"
   },
   {
    "duration": 864,
    "start_time": "2021-07-22T16:23:26.970Z"
   },
   {
    "duration": 6,
    "start_time": "2021-07-22T16:23:27.836Z"
   },
   {
    "duration": 15,
    "start_time": "2021-07-22T16:23:27.846Z"
   },
   {
    "duration": 8,
    "start_time": "2021-07-22T16:23:27.886Z"
   },
   {
    "duration": 12,
    "start_time": "2021-07-22T16:23:27.897Z"
   },
   {
    "duration": 13,
    "start_time": "2021-07-22T16:23:27.912Z"
   },
   {
    "duration": 14,
    "start_time": "2021-07-22T16:23:27.927Z"
   },
   {
    "duration": 15,
    "start_time": "2021-07-22T16:23:27.988Z"
   },
   {
    "duration": 13,
    "start_time": "2021-07-22T16:23:28.008Z"
   },
   {
    "duration": 14,
    "start_time": "2021-07-22T16:23:28.025Z"
   },
   {
    "duration": 53,
    "start_time": "2021-07-22T16:23:28.042Z"
   },
   {
    "duration": 14,
    "start_time": "2021-07-22T16:23:28.097Z"
   },
   {
    "duration": 139,
    "start_time": "2021-07-22T16:23:28.114Z"
   },
   {
    "duration": 72,
    "start_time": "2021-07-22T16:23:28.255Z"
   },
   {
    "duration": 81,
    "start_time": "2021-07-22T16:23:28.330Z"
   },
   {
    "duration": 13,
    "start_time": "2021-07-22T16:23:28.414Z"
   },
   {
    "duration": 10,
    "start_time": "2021-07-22T16:23:28.430Z"
   },
   {
    "duration": 59,
    "start_time": "2021-07-22T16:23:28.443Z"
   },
   {
    "duration": 24,
    "start_time": "2021-07-22T16:23:28.504Z"
   },
   {
    "duration": 54,
    "start_time": "2021-07-22T16:23:28.531Z"
   },
   {
    "duration": 47,
    "start_time": "2021-07-22T16:23:28.588Z"
   },
   {
    "duration": 13,
    "start_time": "2021-07-22T16:23:28.638Z"
   },
   {
    "duration": 976,
    "start_time": "2021-07-22T16:23:28.656Z"
   },
   {
    "duration": 54,
    "start_time": "2021-07-22T16:23:29.635Z"
   },
   {
    "duration": 30,
    "start_time": "2021-07-22T16:23:29.692Z"
   },
   {
    "duration": 62,
    "start_time": "2021-07-22T16:23:29.725Z"
   },
   {
    "duration": 12,
    "start_time": "2021-07-22T16:23:29.789Z"
   },
   {
    "duration": 33,
    "start_time": "2021-07-22T16:23:29.804Z"
   },
   {
    "duration": 87,
    "start_time": "2021-07-22T16:23:29.840Z"
   },
   {
    "duration": 29,
    "start_time": "2021-07-22T16:23:29.930Z"
   },
   {
    "duration": 49,
    "start_time": "2021-07-22T16:23:29.962Z"
   },
   {
    "duration": 31,
    "start_time": "2021-07-22T16:23:30.014Z"
   },
   {
    "duration": 80,
    "start_time": "2021-07-22T16:27:31.253Z"
   },
   {
    "duration": 1023,
    "start_time": "2021-07-22T16:28:32.513Z"
   },
   {
    "duration": 205,
    "start_time": "2021-07-22T16:28:33.539Z"
   },
   {
    "duration": 16,
    "start_time": "2021-07-22T16:28:33.748Z"
   },
   {
    "duration": 24,
    "start_time": "2021-07-22T16:28:33.768Z"
   },
   {
    "duration": 10,
    "start_time": "2021-07-22T16:28:33.796Z"
   },
   {
    "duration": 13,
    "start_time": "2021-07-22T16:28:33.809Z"
   },
   {
    "duration": 14,
    "start_time": "2021-07-22T16:28:33.825Z"
   },
   {
    "duration": 47,
    "start_time": "2021-07-22T16:28:33.843Z"
   },
   {
    "duration": 10,
    "start_time": "2021-07-22T16:28:33.893Z"
   },
   {
    "duration": 19,
    "start_time": "2021-07-22T16:28:33.906Z"
   },
   {
    "duration": 13,
    "start_time": "2021-07-22T16:28:33.928Z"
   },
   {
    "duration": 52,
    "start_time": "2021-07-22T16:28:33.943Z"
   },
   {
    "duration": 12,
    "start_time": "2021-07-22T16:28:33.998Z"
   },
   {
    "duration": 104,
    "start_time": "2021-07-22T16:28:34.012Z"
   },
   {
    "duration": 48,
    "start_time": "2021-07-22T16:28:34.119Z"
   },
   {
    "duration": 80,
    "start_time": "2021-07-22T16:28:34.170Z"
   },
   {
    "duration": 36,
    "start_time": "2021-07-22T16:28:34.252Z"
   },
   {
    "duration": 9,
    "start_time": "2021-07-22T16:28:34.290Z"
   },
   {
    "duration": 20,
    "start_time": "2021-07-22T16:28:34.302Z"
   },
   {
    "duration": 66,
    "start_time": "2021-07-22T16:28:34.325Z"
   },
   {
    "duration": 25,
    "start_time": "2021-07-22T16:28:34.393Z"
   },
   {
    "duration": 76,
    "start_time": "2021-07-22T16:28:34.420Z"
   },
   {
    "duration": 15,
    "start_time": "2021-07-22T16:28:34.503Z"
   },
   {
    "duration": 990,
    "start_time": "2021-07-22T16:28:34.522Z"
   },
   {
    "duration": 48,
    "start_time": "2021-07-22T16:28:35.515Z"
   },
   {
    "duration": 45,
    "start_time": "2021-07-22T16:28:35.566Z"
   },
   {
    "duration": 32,
    "start_time": "2021-07-22T16:28:35.614Z"
   },
   {
    "duration": 41,
    "start_time": "2021-07-22T16:28:35.649Z"
   },
   {
    "duration": 36,
    "start_time": "2021-07-22T16:28:35.693Z"
   },
   {
    "duration": 70,
    "start_time": "2021-07-22T16:28:35.731Z"
   },
   {
    "duration": 28,
    "start_time": "2021-07-22T16:28:35.803Z"
   },
   {
    "duration": 52,
    "start_time": "2021-07-22T16:28:35.833Z"
   },
   {
    "duration": 29,
    "start_time": "2021-07-22T16:28:35.888Z"
   },
   {
    "duration": 12,
    "start_time": "2021-07-22T16:35:11.405Z"
   },
   {
    "duration": 873,
    "start_time": "2021-07-22T16:35:20.573Z"
   },
   {
    "duration": 89,
    "start_time": "2021-07-22T16:35:21.449Z"
   },
   {
    "duration": 4,
    "start_time": "2021-07-22T16:35:21.542Z"
   },
   {
    "duration": 17,
    "start_time": "2021-07-22T16:35:21.549Z"
   },
   {
    "duration": 24,
    "start_time": "2021-07-22T16:35:21.568Z"
   },
   {
    "duration": 11,
    "start_time": "2021-07-22T16:35:21.594Z"
   },
   {
    "duration": 10,
    "start_time": "2021-07-22T16:35:21.608Z"
   },
   {
    "duration": 10,
    "start_time": "2021-07-22T16:35:21.622Z"
   },
   {
    "duration": 55,
    "start_time": "2021-07-22T16:35:21.635Z"
   },
   {
    "duration": 13,
    "start_time": "2021-07-22T16:35:21.693Z"
   },
   {
    "duration": 12,
    "start_time": "2021-07-22T16:35:21.708Z"
   },
   {
    "duration": 19,
    "start_time": "2021-07-22T16:35:21.723Z"
   },
   {
    "duration": 10,
    "start_time": "2021-07-22T16:35:21.745Z"
   },
   {
    "duration": 70,
    "start_time": "2021-07-22T16:35:21.786Z"
   },
   {
    "duration": 64,
    "start_time": "2021-07-22T16:35:21.859Z"
   },
   {
    "duration": 84,
    "start_time": "2021-07-22T16:35:21.926Z"
   },
   {
    "duration": 11,
    "start_time": "2021-07-22T16:35:22.012Z"
   },
   {
    "duration": 10,
    "start_time": "2021-07-22T16:35:22.026Z"
   },
   {
    "duration": 54,
    "start_time": "2021-07-22T16:35:22.039Z"
   },
   {
    "duration": 25,
    "start_time": "2021-07-22T16:35:22.096Z"
   },
   {
    "duration": 27,
    "start_time": "2021-07-22T16:35:22.124Z"
   },
   {
    "duration": 50,
    "start_time": "2021-07-22T16:35:22.186Z"
   },
   {
    "duration": 15,
    "start_time": "2021-07-22T16:35:22.242Z"
   },
   {
    "duration": 963,
    "start_time": "2021-07-22T16:35:22.285Z"
   },
   {
    "duration": 59,
    "start_time": "2021-07-22T16:35:23.251Z"
   },
   {
    "duration": 30,
    "start_time": "2021-07-22T16:35:23.313Z"
   },
   {
    "duration": 59,
    "start_time": "2021-07-22T16:35:23.345Z"
   },
   {
    "duration": 19,
    "start_time": "2021-07-22T16:35:23.406Z"
   },
   {
    "duration": 60,
    "start_time": "2021-07-22T16:35:23.427Z"
   },
   {
    "duration": 51,
    "start_time": "2021-07-22T16:35:23.490Z"
   },
   {
    "duration": 48,
    "start_time": "2021-07-22T16:35:23.543Z"
   },
   {
    "duration": 26,
    "start_time": "2021-07-22T16:35:23.593Z"
   },
   {
    "duration": 29,
    "start_time": "2021-07-22T16:35:23.622Z"
   },
   {
    "duration": 762,
    "start_time": "2021-07-22T16:37:41.823Z"
   },
   {
    "duration": 94,
    "start_time": "2021-07-22T16:37:42.588Z"
   },
   {
    "duration": 6,
    "start_time": "2021-07-22T16:37:42.685Z"
   },
   {
    "duration": 22,
    "start_time": "2021-07-22T16:37:42.694Z"
   },
   {
    "duration": 11,
    "start_time": "2021-07-22T16:37:42.719Z"
   },
   {
    "duration": 25,
    "start_time": "2021-07-22T16:37:42.732Z"
   },
   {
    "duration": 433,
    "start_time": "2021-07-22T16:37:42.761Z"
   },
   {
    "duration": 313,
    "start_time": "2021-07-22T16:37:42.885Z"
   },
   {
    "duration": 311,
    "start_time": "2021-07-22T16:37:42.888Z"
   },
   {
    "duration": 304,
    "start_time": "2021-07-22T16:37:42.897Z"
   },
   {
    "duration": 291,
    "start_time": "2021-07-22T16:37:42.911Z"
   },
   {
    "duration": 289,
    "start_time": "2021-07-22T16:37:42.915Z"
   },
   {
    "duration": 287,
    "start_time": "2021-07-22T16:37:42.919Z"
   },
   {
    "duration": 285,
    "start_time": "2021-07-22T16:37:42.922Z"
   },
   {
    "duration": 283,
    "start_time": "2021-07-22T16:37:42.926Z"
   },
   {
    "duration": 279,
    "start_time": "2021-07-22T16:37:42.931Z"
   },
   {
    "duration": 271,
    "start_time": "2021-07-22T16:37:42.940Z"
   },
   {
    "duration": 268,
    "start_time": "2021-07-22T16:37:42.944Z"
   },
   {
    "duration": 266,
    "start_time": "2021-07-22T16:37:42.947Z"
   },
   {
    "duration": 264,
    "start_time": "2021-07-22T16:37:42.951Z"
   },
   {
    "duration": 261,
    "start_time": "2021-07-22T16:37:42.955Z"
   },
   {
    "duration": 250,
    "start_time": "2021-07-22T16:37:42.968Z"
   },
   {
    "duration": 247,
    "start_time": "2021-07-22T16:37:42.972Z"
   },
   {
    "duration": 245,
    "start_time": "2021-07-22T16:37:42.975Z"
   },
   {
    "duration": 243,
    "start_time": "2021-07-22T16:37:42.979Z"
   },
   {
    "duration": 241,
    "start_time": "2021-07-22T16:37:42.982Z"
   },
   {
    "duration": 239,
    "start_time": "2021-07-22T16:37:42.986Z"
   },
   {
    "duration": 227,
    "start_time": "2021-07-22T16:37:42.999Z"
   },
   {
    "duration": 224,
    "start_time": "2021-07-22T16:37:43.003Z"
   },
   {
    "duration": 221,
    "start_time": "2021-07-22T16:37:43.007Z"
   },
   {
    "duration": 220,
    "start_time": "2021-07-22T16:37:43.010Z"
   },
   {
    "duration": 210,
    "start_time": "2021-07-22T16:37:43.021Z"
   },
   {
    "duration": 208,
    "start_time": "2021-07-22T16:37:43.025Z"
   },
   {
    "duration": 249,
    "start_time": "2021-07-22T16:37:43.036Z"
   },
   {
    "duration": 9,
    "start_time": "2021-07-22T16:38:08.297Z"
   },
   {
    "duration": 1115,
    "start_time": "2021-07-22T16:38:19.518Z"
   },
   {
    "duration": 132,
    "start_time": "2021-07-22T16:38:20.637Z"
   },
   {
    "duration": 16,
    "start_time": "2021-07-22T16:38:20.773Z"
   },
   {
    "duration": 26,
    "start_time": "2021-07-22T16:38:20.792Z"
   },
   {
    "duration": 9,
    "start_time": "2021-07-22T16:38:20.821Z"
   },
   {
    "duration": 21,
    "start_time": "2021-07-22T16:38:20.833Z"
   },
   {
    "duration": 12,
    "start_time": "2021-07-22T16:38:20.887Z"
   },
   {
    "duration": 22,
    "start_time": "2021-07-22T16:38:20.905Z"
   },
   {
    "duration": 14,
    "start_time": "2021-07-22T16:38:20.930Z"
   },
   {
    "duration": 42,
    "start_time": "2021-07-22T16:38:20.947Z"
   },
   {
    "duration": 11,
    "start_time": "2021-07-22T16:38:20.992Z"
   },
   {
    "duration": 17,
    "start_time": "2021-07-22T16:38:21.006Z"
   },
   {
    "duration": 16,
    "start_time": "2021-07-22T16:38:21.026Z"
   },
   {
    "duration": 50,
    "start_time": "2021-07-22T16:38:21.045Z"
   },
   {
    "duration": 130,
    "start_time": "2021-07-22T16:38:21.098Z"
   },
   {
    "duration": 85,
    "start_time": "2021-07-22T16:38:21.231Z"
   },
   {
    "duration": 125,
    "start_time": "2021-07-22T16:38:21.319Z"
   },
   {
    "duration": 15,
    "start_time": "2021-07-22T16:38:21.447Z"
   },
   {
    "duration": 24,
    "start_time": "2021-07-22T16:38:21.466Z"
   },
   {
    "duration": 26,
    "start_time": "2021-07-22T16:38:21.494Z"
   },
   {
    "duration": 67,
    "start_time": "2021-07-22T16:38:21.523Z"
   },
   {
    "duration": 37,
    "start_time": "2021-07-22T16:38:21.593Z"
   },
   {
    "duration": 84,
    "start_time": "2021-07-22T16:38:21.636Z"
   },
   {
    "duration": 19,
    "start_time": "2021-07-22T16:38:21.723Z"
   },
   {
    "duration": 1085,
    "start_time": "2021-07-22T16:38:21.746Z"
   },
   {
    "duration": 66,
    "start_time": "2021-07-22T16:38:22.834Z"
   },
   {
    "duration": 28,
    "start_time": "2021-07-22T16:38:22.903Z"
   },
   {
    "duration": 57,
    "start_time": "2021-07-22T16:38:22.934Z"
   },
   {
    "duration": 13,
    "start_time": "2021-07-22T16:38:22.993Z"
   },
   {
    "duration": 34,
    "start_time": "2021-07-22T16:38:23.009Z"
   },
   {
    "duration": 78,
    "start_time": "2021-07-22T16:38:23.045Z"
   },
   {
    "duration": 28,
    "start_time": "2021-07-22T16:38:23.126Z"
   },
   {
    "duration": 53,
    "start_time": "2021-07-22T16:38:23.156Z"
   },
   {
    "duration": 29,
    "start_time": "2021-07-22T16:38:23.211Z"
   },
   {
    "duration": 746,
    "start_time": "2021-07-22T16:42:08.600Z"
   },
   {
    "duration": 97,
    "start_time": "2021-07-22T16:42:09.349Z"
   },
   {
    "duration": 5,
    "start_time": "2021-07-22T16:42:09.449Z"
   },
   {
    "duration": 37,
    "start_time": "2021-07-22T16:42:09.457Z"
   },
   {
    "duration": 9,
    "start_time": "2021-07-22T16:42:09.497Z"
   },
   {
    "duration": 13,
    "start_time": "2021-07-22T16:42:09.509Z"
   },
   {
    "duration": 10,
    "start_time": "2021-07-22T16:42:09.524Z"
   },
   {
    "duration": 16,
    "start_time": "2021-07-22T16:42:09.538Z"
   },
   {
    "duration": 12,
    "start_time": "2021-07-22T16:42:09.587Z"
   },
   {
    "duration": 23,
    "start_time": "2021-07-22T16:42:09.602Z"
   },
   {
    "duration": 15,
    "start_time": "2021-07-22T16:42:09.627Z"
   },
   {
    "duration": 17,
    "start_time": "2021-07-22T16:42:09.645Z"
   },
   {
    "duration": 27,
    "start_time": "2021-07-22T16:42:09.665Z"
   },
   {
    "duration": 15,
    "start_time": "2021-07-22T16:42:09.695Z"
   },
   {
    "duration": 91,
    "start_time": "2021-07-22T16:42:09.713Z"
   },
   {
    "duration": 50,
    "start_time": "2021-07-22T16:42:09.807Z"
   },
   {
    "duration": 81,
    "start_time": "2021-07-22T16:42:09.859Z"
   },
   {
    "duration": 11,
    "start_time": "2021-07-22T16:42:09.943Z"
   },
   {
    "duration": 35,
    "start_time": "2021-07-22T16:42:09.957Z"
   },
   {
    "duration": 21,
    "start_time": "2021-07-22T16:42:09.994Z"
   },
   {
    "duration": 30,
    "start_time": "2021-07-22T16:42:10.018Z"
   },
   {
    "duration": 27,
    "start_time": "2021-07-22T16:42:10.087Z"
   },
   {
    "duration": 69,
    "start_time": "2021-07-22T16:42:10.121Z"
   },
   {
    "duration": 16,
    "start_time": "2021-07-22T16:42:10.194Z"
   },
   {
    "duration": 939,
    "start_time": "2021-07-22T16:42:10.213Z"
   },
   {
    "duration": 57,
    "start_time": "2021-07-22T16:42:11.155Z"
   },
   {
    "duration": 29,
    "start_time": "2021-07-22T16:42:11.215Z"
   },
   {
    "duration": 56,
    "start_time": "2021-07-22T16:42:11.247Z"
   },
   {
    "duration": 13,
    "start_time": "2021-07-22T16:42:11.306Z"
   },
   {
    "duration": 31,
    "start_time": "2021-07-22T16:42:11.321Z"
   },
   {
    "duration": 74,
    "start_time": "2021-07-22T16:42:11.354Z"
   },
   {
    "duration": 58,
    "start_time": "2021-07-22T16:42:11.430Z"
   },
   {
    "duration": 28,
    "start_time": "2021-07-22T16:42:11.491Z"
   },
   {
    "duration": 76,
    "start_time": "2021-07-22T16:42:11.521Z"
   },
   {
    "duration": 806,
    "start_time": "2021-07-22T16:45:04.426Z"
   },
   {
    "duration": 94,
    "start_time": "2021-07-22T16:45:05.235Z"
   },
   {
    "duration": 6,
    "start_time": "2021-07-22T16:45:05.332Z"
   },
   {
    "duration": 46,
    "start_time": "2021-07-22T16:45:05.340Z"
   },
   {
    "duration": 11,
    "start_time": "2021-07-22T16:45:05.389Z"
   },
   {
    "duration": 20,
    "start_time": "2021-07-22T16:45:05.402Z"
   },
   {
    "duration": 20,
    "start_time": "2021-07-22T16:45:05.425Z"
   },
   {
    "duration": 38,
    "start_time": "2021-07-22T16:45:05.449Z"
   },
   {
    "duration": 14,
    "start_time": "2021-07-22T16:45:05.491Z"
   },
   {
    "duration": 28,
    "start_time": "2021-07-22T16:45:05.509Z"
   },
   {
    "duration": 26,
    "start_time": "2021-07-22T16:45:05.540Z"
   },
   {
    "duration": 33,
    "start_time": "2021-07-22T16:45:05.568Z"
   },
   {
    "duration": 20,
    "start_time": "2021-07-22T16:45:05.604Z"
   },
   {
    "duration": 32,
    "start_time": "2021-07-22T16:45:05.626Z"
   },
   {
    "duration": 117,
    "start_time": "2021-07-22T16:45:05.660Z"
   },
   {
    "duration": 69,
    "start_time": "2021-07-22T16:45:05.784Z"
   },
   {
    "duration": 122,
    "start_time": "2021-07-22T16:45:05.856Z"
   },
   {
    "duration": 18,
    "start_time": "2021-07-22T16:45:05.985Z"
   },
   {
    "duration": 16,
    "start_time": "2021-07-22T16:45:06.006Z"
   },
   {
    "duration": 69,
    "start_time": "2021-07-22T16:45:06.024Z"
   },
   {
    "duration": 33,
    "start_time": "2021-07-22T16:45:06.095Z"
   },
   {
    "duration": 33,
    "start_time": "2021-07-22T16:45:06.185Z"
   },
   {
    "duration": 97,
    "start_time": "2021-07-22T16:45:06.224Z"
   },
   {
    "duration": 65,
    "start_time": "2021-07-22T16:45:06.324Z"
   },
   {
    "duration": 1243,
    "start_time": "2021-07-22T16:45:06.392Z"
   },
   {
    "duration": 52,
    "start_time": "2021-07-22T16:45:07.638Z"
   },
   {
    "duration": 29,
    "start_time": "2021-07-22T16:45:07.693Z"
   },
   {
    "duration": 45,
    "start_time": "2021-07-22T16:45:07.725Z"
   },
   {
    "duration": 20,
    "start_time": "2021-07-22T16:45:07.773Z"
   },
   {
    "duration": 33,
    "start_time": "2021-07-22T16:45:07.795Z"
   },
   {
    "duration": 82,
    "start_time": "2021-07-22T16:45:07.831Z"
   },
   {
    "duration": 30,
    "start_time": "2021-07-22T16:45:07.917Z"
   },
   {
    "duration": 50,
    "start_time": "2021-07-22T16:45:07.950Z"
   },
   {
    "duration": 29,
    "start_time": "2021-07-22T16:45:08.003Z"
   },
   {
    "duration": 70,
    "start_time": "2021-07-22T16:45:24.729Z"
   },
   {
    "duration": 101,
    "start_time": "2021-07-22T16:46:34.273Z"
   },
   {
    "duration": 17,
    "start_time": "2021-07-22T16:48:08.601Z"
   },
   {
    "duration": 770,
    "start_time": "2021-07-22T16:48:22.809Z"
   },
   {
    "duration": 91,
    "start_time": "2021-07-22T16:48:23.582Z"
   },
   {
    "duration": 10,
    "start_time": "2021-07-22T16:48:23.680Z"
   },
   {
    "duration": 24,
    "start_time": "2021-07-22T16:48:23.693Z"
   },
   {
    "duration": 7,
    "start_time": "2021-07-22T16:48:23.721Z"
   },
   {
    "duration": 25,
    "start_time": "2021-07-22T16:48:23.731Z"
   },
   {
    "duration": 31,
    "start_time": "2021-07-22T16:48:23.760Z"
   },
   {
    "duration": 10,
    "start_time": "2021-07-22T16:48:23.794Z"
   },
   {
    "duration": 27,
    "start_time": "2021-07-22T16:48:23.807Z"
   },
   {
    "duration": 13,
    "start_time": "2021-07-22T16:48:23.837Z"
   },
   {
    "duration": 12,
    "start_time": "2021-07-22T16:48:23.852Z"
   },
   {
    "duration": 11,
    "start_time": "2021-07-22T16:48:23.886Z"
   },
   {
    "duration": 21,
    "start_time": "2021-07-22T16:48:23.900Z"
   },
   {
    "duration": 13,
    "start_time": "2021-07-22T16:48:23.924Z"
   },
   {
    "duration": 110,
    "start_time": "2021-07-22T16:48:23.941Z"
   },
   {
    "duration": 60,
    "start_time": "2021-07-22T16:48:24.054Z"
   },
   {
    "duration": 5,
    "start_time": "2021-07-22T16:48:24.117Z"
   },
   {
    "duration": 88,
    "start_time": "2021-07-22T16:48:24.125Z"
   },
   {
    "duration": 11,
    "start_time": "2021-07-22T16:48:24.216Z"
   },
   {
    "duration": 23,
    "start_time": "2021-07-22T16:48:24.229Z"
   },
   {
    "duration": 44,
    "start_time": "2021-07-22T16:48:24.254Z"
   },
   {
    "duration": 36,
    "start_time": "2021-07-22T16:48:24.303Z"
   },
   {
    "duration": 62,
    "start_time": "2021-07-22T16:48:24.342Z"
   },
   {
    "duration": 13,
    "start_time": "2021-07-22T16:48:24.407Z"
   },
   {
    "duration": 1364,
    "start_time": "2021-07-22T16:48:24.423Z"
   },
   {
    "duration": 40,
    "start_time": "2021-07-22T16:48:25.790Z"
   },
   {
    "duration": 52,
    "start_time": "2021-07-22T16:48:25.833Z"
   },
   {
    "duration": 31,
    "start_time": "2021-07-22T16:48:25.888Z"
   },
   {
    "duration": 12,
    "start_time": "2021-07-22T16:48:25.921Z"
   },
   {
    "duration": 66,
    "start_time": "2021-07-22T16:48:25.935Z"
   },
   {
    "duration": 45,
    "start_time": "2021-07-22T16:48:26.003Z"
   },
   {
    "duration": 49,
    "start_time": "2021-07-22T16:48:26.050Z"
   },
   {
    "duration": 26,
    "start_time": "2021-07-22T16:48:26.102Z"
   },
   {
    "duration": 28,
    "start_time": "2021-07-22T16:48:26.130Z"
   },
   {
    "duration": 783,
    "start_time": "2021-07-22T16:50:10.033Z"
   },
   {
    "duration": 94,
    "start_time": "2021-07-22T16:50:10.819Z"
   },
   {
    "duration": 6,
    "start_time": "2021-07-22T16:50:10.917Z"
   },
   {
    "duration": 20,
    "start_time": "2021-07-22T16:50:10.927Z"
   },
   {
    "duration": 41,
    "start_time": "2021-07-22T16:50:10.951Z"
   },
   {
    "duration": 19,
    "start_time": "2021-07-22T16:50:10.995Z"
   },
   {
    "duration": 14,
    "start_time": "2021-07-22T16:50:11.018Z"
   },
   {
    "duration": 14,
    "start_time": "2021-07-22T16:50:11.038Z"
   },
   {
    "duration": 12,
    "start_time": "2021-07-22T16:50:11.085Z"
   },
   {
    "duration": 17,
    "start_time": "2021-07-22T16:50:11.100Z"
   },
   {
    "duration": 18,
    "start_time": "2021-07-22T16:50:11.120Z"
   },
   {
    "duration": 15,
    "start_time": "2021-07-22T16:50:11.141Z"
   },
   {
    "duration": 10,
    "start_time": "2021-07-22T16:50:11.185Z"
   },
   {
    "duration": 27,
    "start_time": "2021-07-22T16:50:11.198Z"
   },
   {
    "duration": 82,
    "start_time": "2021-07-22T16:50:11.227Z"
   },
   {
    "duration": 45,
    "start_time": "2021-07-22T16:50:11.311Z"
   },
   {
    "duration": 5,
    "start_time": "2021-07-22T16:50:11.359Z"
   },
   {
    "duration": 65,
    "start_time": "2021-07-22T16:50:11.386Z"
   },
   {
    "duration": 5,
    "start_time": "2021-07-22T16:50:11.453Z"
   },
   {
    "duration": 29,
    "start_time": "2021-07-22T16:50:11.461Z"
   },
   {
    "duration": 33,
    "start_time": "2021-07-22T16:50:11.492Z"
   },
   {
    "duration": 27,
    "start_time": "2021-07-22T16:50:11.527Z"
   },
   {
    "duration": 52,
    "start_time": "2021-07-22T16:50:11.558Z"
   },
   {
    "duration": 14,
    "start_time": "2021-07-22T16:50:11.613Z"
   },
   {
    "duration": 1082,
    "start_time": "2021-07-22T16:50:11.630Z"
   },
   {
    "duration": 94,
    "start_time": "2021-07-22T16:50:12.714Z"
   },
   {
    "duration": 81,
    "start_time": "2021-07-22T16:50:12.810Z"
   },
   {
    "duration": 32,
    "start_time": "2021-07-22T16:50:12.894Z"
   },
   {
    "duration": 67,
    "start_time": "2021-07-22T16:50:12.928Z"
   },
   {
    "duration": 143,
    "start_time": "2021-07-22T16:50:12.998Z"
   },
   {
    "duration": 89,
    "start_time": "2021-07-22T16:50:13.143Z"
   },
   {
    "duration": 65,
    "start_time": "2021-07-22T16:50:13.234Z"
   },
   {
    "duration": 29,
    "start_time": "2021-07-22T16:50:13.301Z"
   },
   {
    "duration": 53,
    "start_time": "2021-07-22T16:50:13.332Z"
   },
   {
    "duration": 828,
    "start_time": "2021-07-22T16:52:22.071Z"
   },
   {
    "duration": 92,
    "start_time": "2021-07-22T16:52:22.902Z"
   },
   {
    "duration": 6,
    "start_time": "2021-07-22T16:52:22.997Z"
   },
   {
    "duration": 29,
    "start_time": "2021-07-22T16:52:23.006Z"
   },
   {
    "duration": 17,
    "start_time": "2021-07-22T16:52:23.038Z"
   },
   {
    "duration": 30,
    "start_time": "2021-07-22T16:52:23.057Z"
   },
   {
    "duration": 10,
    "start_time": "2021-07-22T16:52:23.090Z"
   },
   {
    "duration": 15,
    "start_time": "2021-07-22T16:52:23.107Z"
   },
   {
    "duration": 26,
    "start_time": "2021-07-22T16:52:23.126Z"
   },
   {
    "duration": 42,
    "start_time": "2021-07-22T16:52:23.154Z"
   },
   {
    "duration": 25,
    "start_time": "2021-07-22T16:52:23.199Z"
   },
   {
    "duration": 59,
    "start_time": "2021-07-22T16:52:23.227Z"
   },
   {
    "duration": 16,
    "start_time": "2021-07-22T16:52:23.289Z"
   },
   {
    "duration": 23,
    "start_time": "2021-07-22T16:52:23.308Z"
   },
   {
    "duration": 178,
    "start_time": "2021-07-22T16:52:23.334Z"
   },
   {
    "duration": 100,
    "start_time": "2021-07-22T16:52:23.515Z"
   },
   {
    "duration": 5,
    "start_time": "2021-07-22T16:52:23.617Z"
   },
   {
    "duration": 175,
    "start_time": "2021-07-22T16:52:23.625Z"
   },
   {
    "duration": 6,
    "start_time": "2021-07-22T16:52:23.802Z"
   },
   {
    "duration": 15,
    "start_time": "2021-07-22T16:52:23.811Z"
   },
   {
    "duration": 75,
    "start_time": "2021-07-22T16:52:23.829Z"
   },
   {
    "duration": 86,
    "start_time": "2021-07-22T16:52:23.906Z"
   },
   {
    "duration": 89,
    "start_time": "2021-07-22T16:52:24.000Z"
   },
   {
    "duration": 15,
    "start_time": "2021-07-22T16:52:24.092Z"
   },
   {
    "duration": 1049,
    "start_time": "2021-07-22T16:52:24.110Z"
   },
   {
    "duration": 44,
    "start_time": "2021-07-22T16:52:25.162Z"
   },
   {
    "duration": 31,
    "start_time": "2021-07-22T16:52:25.209Z"
   },
   {
    "duration": 63,
    "start_time": "2021-07-22T16:52:25.244Z"
   },
   {
    "duration": 15,
    "start_time": "2021-07-22T16:52:25.310Z"
   },
   {
    "duration": 68,
    "start_time": "2021-07-22T16:52:25.328Z"
   },
   {
    "duration": 50,
    "start_time": "2021-07-22T16:52:25.399Z"
   },
   {
    "duration": 56,
    "start_time": "2021-07-22T16:52:25.452Z"
   },
   {
    "duration": 46,
    "start_time": "2021-07-22T16:52:25.511Z"
   },
   {
    "duration": 63,
    "start_time": "2021-07-22T16:52:25.561Z"
   },
   {
    "duration": 743,
    "start_time": "2021-07-22T16:53:56.100Z"
   },
   {
    "duration": 87,
    "start_time": "2021-07-22T16:53:56.846Z"
   },
   {
    "duration": 5,
    "start_time": "2021-07-22T16:53:56.936Z"
   },
   {
    "duration": 16,
    "start_time": "2021-07-22T16:53:56.944Z"
   },
   {
    "duration": 28,
    "start_time": "2021-07-22T16:53:56.962Z"
   },
   {
    "duration": 11,
    "start_time": "2021-07-22T16:53:56.993Z"
   },
   {
    "duration": 8,
    "start_time": "2021-07-22T16:53:57.007Z"
   },
   {
    "duration": 19,
    "start_time": "2021-07-22T16:53:57.018Z"
   },
   {
    "duration": 12,
    "start_time": "2021-07-22T16:53:57.040Z"
   },
   {
    "duration": 10,
    "start_time": "2021-07-22T16:53:57.085Z"
   },
   {
    "duration": 12,
    "start_time": "2021-07-22T16:53:57.098Z"
   },
   {
    "duration": 16,
    "start_time": "2021-07-22T16:53:57.113Z"
   },
   {
    "duration": 12,
    "start_time": "2021-07-22T16:53:57.131Z"
   },
   {
    "duration": 44,
    "start_time": "2021-07-22T16:53:57.145Z"
   },
   {
    "duration": 70,
    "start_time": "2021-07-22T16:53:57.192Z"
   },
   {
    "duration": 58,
    "start_time": "2021-07-22T16:53:57.264Z"
   },
   {
    "duration": 6,
    "start_time": "2021-07-22T16:53:57.324Z"
   },
   {
    "duration": 97,
    "start_time": "2021-07-22T16:53:57.334Z"
   },
   {
    "duration": 7,
    "start_time": "2021-07-22T16:53:57.434Z"
   },
   {
    "duration": 11,
    "start_time": "2021-07-22T16:53:57.444Z"
   },
   {
    "duration": 45,
    "start_time": "2021-07-22T16:53:57.458Z"
   },
   {
    "duration": 28,
    "start_time": "2021-07-22T16:53:57.506Z"
   },
   {
    "duration": 57,
    "start_time": "2021-07-22T16:53:57.540Z"
   },
   {
    "duration": 20,
    "start_time": "2021-07-22T16:53:57.601Z"
   },
   {
    "duration": 1353,
    "start_time": "2021-07-22T16:53:57.625Z"
   },
   {
    "duration": 35,
    "start_time": "2021-07-22T16:53:58.986Z"
   },
   {
    "duration": 15,
    "start_time": "2021-07-22T16:53:59.024Z"
   },
   {
    "duration": 43,
    "start_time": "2021-07-22T16:53:59.043Z"
   },
   {
    "duration": 13,
    "start_time": "2021-07-22T16:53:59.089Z"
   },
   {
    "duration": 15,
    "start_time": "2021-07-22T16:53:59.104Z"
   },
   {
    "duration": 73,
    "start_time": "2021-07-22T16:53:59.121Z"
   },
   {
    "duration": 27,
    "start_time": "2021-07-22T16:53:59.197Z"
   },
   {
    "duration": 29,
    "start_time": "2021-07-22T16:53:59.227Z"
   },
   {
    "duration": 29,
    "start_time": "2021-07-22T16:53:59.285Z"
   },
   {
    "duration": 31,
    "start_time": "2021-07-22T16:54:29.522Z"
   },
   {
    "duration": 30,
    "start_time": "2021-07-22T16:55:50.629Z"
   },
   {
    "duration": 30,
    "start_time": "2021-07-22T16:57:15.545Z"
   },
   {
    "duration": 32,
    "start_time": "2021-07-22T16:58:15.705Z"
   },
   {
    "duration": 775,
    "start_time": "2021-07-22T17:05:13.546Z"
   },
   {
    "duration": 91,
    "start_time": "2021-07-22T17:05:14.324Z"
   },
   {
    "duration": 6,
    "start_time": "2021-07-22T17:05:14.418Z"
   },
   {
    "duration": 30,
    "start_time": "2021-07-22T17:05:14.426Z"
   },
   {
    "duration": 7,
    "start_time": "2021-07-22T17:05:14.459Z"
   },
   {
    "duration": 34,
    "start_time": "2021-07-22T17:05:14.469Z"
   },
   {
    "duration": 18,
    "start_time": "2021-07-22T17:05:14.505Z"
   },
   {
    "duration": 12,
    "start_time": "2021-07-22T17:05:14.526Z"
   },
   {
    "duration": 16,
    "start_time": "2021-07-22T17:05:14.540Z"
   },
   {
    "duration": 28,
    "start_time": "2021-07-22T17:05:14.558Z"
   },
   {
    "duration": 16,
    "start_time": "2021-07-22T17:05:14.588Z"
   },
   {
    "duration": 23,
    "start_time": "2021-07-22T17:05:14.606Z"
   },
   {
    "duration": 21,
    "start_time": "2021-07-22T17:05:14.631Z"
   },
   {
    "duration": 12,
    "start_time": "2021-07-22T17:05:14.654Z"
   },
   {
    "duration": 86,
    "start_time": "2021-07-22T17:05:14.668Z"
   },
   {
    "duration": 64,
    "start_time": "2021-07-22T17:05:14.756Z"
   },
   {
    "duration": 5,
    "start_time": "2021-07-22T17:05:14.823Z"
   },
   {
    "duration": 80,
    "start_time": "2021-07-22T17:05:14.830Z"
   },
   {
    "duration": 5,
    "start_time": "2021-07-22T17:05:14.913Z"
   },
   {
    "duration": 15,
    "start_time": "2021-07-22T17:05:14.920Z"
   },
   {
    "duration": 27,
    "start_time": "2021-07-22T17:05:14.937Z"
   },
   {
    "duration": 40,
    "start_time": "2021-07-22T17:05:14.966Z"
   },
   {
    "duration": 27,
    "start_time": "2021-07-22T17:05:15.012Z"
   },
   {
    "duration": 43,
    "start_time": "2021-07-22T17:05:15.042Z"
   },
   {
    "duration": 974,
    "start_time": "2021-07-22T17:05:15.088Z"
   },
   {
    "duration": 35,
    "start_time": "2021-07-22T17:05:16.065Z"
   },
   {
    "duration": 12,
    "start_time": "2021-07-22T17:05:16.102Z"
   },
   {
    "duration": 21,
    "start_time": "2021-07-22T17:05:16.117Z"
   },
   {
    "duration": 16,
    "start_time": "2021-07-22T17:05:16.141Z"
   },
   {
    "duration": 38,
    "start_time": "2021-07-22T17:05:16.159Z"
   },
   {
    "duration": 51,
    "start_time": "2021-07-22T17:05:16.200Z"
   },
   {
    "duration": 52,
    "start_time": "2021-07-22T17:05:16.255Z"
   },
   {
    "duration": 31,
    "start_time": "2021-07-22T17:05:16.309Z"
   },
   {
    "duration": 56,
    "start_time": "2021-07-22T17:05:16.342Z"
   },
   {
    "duration": 815,
    "start_time": "2021-07-22T17:11:07.147Z"
   },
   {
    "duration": 91,
    "start_time": "2021-07-22T17:11:07.966Z"
   },
   {
    "duration": 6,
    "start_time": "2021-07-22T17:11:08.061Z"
   },
   {
    "duration": 27,
    "start_time": "2021-07-22T17:11:08.070Z"
   },
   {
    "duration": 9,
    "start_time": "2021-07-22T17:11:08.099Z"
   },
   {
    "duration": 11,
    "start_time": "2021-07-22T17:11:08.111Z"
   },
   {
    "duration": 9,
    "start_time": "2021-07-22T17:11:08.124Z"
   },
   {
    "duration": 57,
    "start_time": "2021-07-22T17:11:08.137Z"
   },
   {
    "duration": 10,
    "start_time": "2021-07-22T17:11:08.197Z"
   },
   {
    "duration": 14,
    "start_time": "2021-07-22T17:11:08.210Z"
   },
   {
    "duration": 10,
    "start_time": "2021-07-22T17:11:08.227Z"
   },
   {
    "duration": 52,
    "start_time": "2021-07-22T17:11:08.240Z"
   },
   {
    "duration": 11,
    "start_time": "2021-07-22T17:11:08.295Z"
   },
   {
    "duration": 10,
    "start_time": "2021-07-22T17:11:08.309Z"
   },
   {
    "duration": 100,
    "start_time": "2021-07-22T17:11:08.322Z"
   },
   {
    "duration": 42,
    "start_time": "2021-07-22T17:11:08.425Z"
   },
   {
    "duration": 17,
    "start_time": "2021-07-22T17:11:08.469Z"
   },
   {
    "duration": 60,
    "start_time": "2021-07-22T17:11:08.489Z"
   },
   {
    "duration": 5,
    "start_time": "2021-07-22T17:11:08.552Z"
   },
   {
    "duration": 29,
    "start_time": "2021-07-22T17:11:08.560Z"
   },
   {
    "duration": 24,
    "start_time": "2021-07-22T17:11:08.591Z"
   },
   {
    "duration": 25,
    "start_time": "2021-07-22T17:11:08.618Z"
   },
   {
    "duration": 53,
    "start_time": "2021-07-22T17:11:08.647Z"
   },
   {
    "duration": 14,
    "start_time": "2021-07-22T17:11:08.703Z"
   },
   {
    "duration": 969,
    "start_time": "2021-07-22T17:11:08.719Z"
   },
   {
    "duration": 29,
    "start_time": "2021-07-22T17:11:09.690Z"
   },
   {
    "duration": 14,
    "start_time": "2021-07-22T17:11:09.722Z"
   },
   {
    "duration": 46,
    "start_time": "2021-07-22T17:11:09.740Z"
   },
   {
    "duration": 15,
    "start_time": "2021-07-22T17:11:09.789Z"
   },
   {
    "duration": 21,
    "start_time": "2021-07-22T17:11:09.807Z"
   },
   {
    "duration": 78,
    "start_time": "2021-07-22T17:11:09.831Z"
   },
   {
    "duration": 32,
    "start_time": "2021-07-22T17:11:09.912Z"
   },
   {
    "duration": 62,
    "start_time": "2021-07-22T17:11:09.947Z"
   },
   {
    "duration": 40,
    "start_time": "2021-07-22T17:11:10.012Z"
   }
  ],
  "kernelspec": {
   "display_name": "Python 3",
   "language": "python",
   "name": "python3"
  },
  "language_info": {
   "codemirror_mode": {
    "name": "ipython",
    "version": 3
   },
   "file_extension": ".py",
   "mimetype": "text/x-python",
   "name": "python",
   "nbconvert_exporter": "python",
   "pygments_lexer": "ipython3",
   "version": "3.7.8"
  },
  "toc": {
   "base_numbering": 1,
   "nav_menu": {},
   "number_sections": false,
   "sideBar": true,
   "skip_h1_title": false,
   "title_cell": "Table of Contents",
   "title_sidebar": "Contents",
   "toc_cell": false,
   "toc_position": {
    "height": "calc(100% - 180px)",
    "left": "10px",
    "top": "150px",
    "width": "192.319px"
   },
   "toc_section_display": true,
   "toc_window_display": true
  }
 },
 "nbformat": 4,
 "nbformat_minor": 2
}
